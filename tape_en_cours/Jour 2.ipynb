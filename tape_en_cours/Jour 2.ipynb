{
 "cells": [
  {
   "cell_type": "markdown",
   "id": "455f499f-3130-4e72-b56f-4e468866400b",
   "metadata": {},
   "source": [
    "# Types de variables "
   ]
  },
  {
   "cell_type": "code",
   "execution_count": 1,
   "id": "d090f4d7-adcc-4512-b503-b9cb4fc2b1ae",
   "metadata": {},
   "outputs": [],
   "source": [
    "examples = []"
   ]
  },
  {
   "cell_type": "code",
   "execution_count": 6,
   "id": "b4974b25-2f58-4cc7-bae1-9e4f1b5e4a50",
   "metadata": {},
   "outputs": [],
   "source": [
    "list = \"toto\""
   ]
  },
  {
   "cell_type": "code",
   "execution_count": null,
   "id": "32f475a2-5ced-47c7-9e35-ffac08558b46",
   "metadata": {},
   "outputs": [],
   "source": []
  },
  {
   "cell_type": "code",
   "execution_count": 3,
   "id": "1f6b171f-b285-466a-a2f2-94759abc5ef7",
   "metadata": {},
   "outputs": [],
   "source": [
    "import builtins"
   ]
  },
  {
   "cell_type": "code",
   "execution_count": 4,
   "id": "482b6ea3-a60d-48ea-bf71-4b92373f92c5",
   "metadata": {},
   "outputs": [
    {
     "data": {
      "text/plain": [
       "['ArithmeticError',\n",
       " 'AssertionError',\n",
       " 'AttributeError',\n",
       " 'BaseException',\n",
       " 'BaseExceptionGroup',\n",
       " 'BlockingIOError',\n",
       " 'BrokenPipeError',\n",
       " 'BufferError',\n",
       " 'BytesWarning',\n",
       " 'ChildProcessError',\n",
       " 'ConnectionAbortedError',\n",
       " 'ConnectionError',\n",
       " 'ConnectionRefusedError',\n",
       " 'ConnectionResetError',\n",
       " 'DeprecationWarning',\n",
       " 'EOFError',\n",
       " 'Ellipsis',\n",
       " 'EncodingWarning',\n",
       " 'EnvironmentError',\n",
       " 'Exception',\n",
       " 'ExceptionGroup',\n",
       " 'False',\n",
       " 'FileExistsError',\n",
       " 'FileNotFoundError',\n",
       " 'FloatingPointError',\n",
       " 'FutureWarning',\n",
       " 'GeneratorExit',\n",
       " 'IOError',\n",
       " 'ImportError',\n",
       " 'ImportWarning',\n",
       " 'IndentationError',\n",
       " 'IndexError',\n",
       " 'InterruptedError',\n",
       " 'IsADirectoryError',\n",
       " 'KeyError',\n",
       " 'KeyboardInterrupt',\n",
       " 'LookupError',\n",
       " 'MemoryError',\n",
       " 'ModuleNotFoundError',\n",
       " 'NameError',\n",
       " 'None',\n",
       " 'NotADirectoryError',\n",
       " 'NotImplemented',\n",
       " 'NotImplementedError',\n",
       " 'OSError',\n",
       " 'OverflowError',\n",
       " 'PendingDeprecationWarning',\n",
       " 'PermissionError',\n",
       " 'ProcessLookupError',\n",
       " 'RecursionError',\n",
       " 'ReferenceError',\n",
       " 'ResourceWarning',\n",
       " 'RuntimeError',\n",
       " 'RuntimeWarning',\n",
       " 'StopAsyncIteration',\n",
       " 'StopIteration',\n",
       " 'SyntaxError',\n",
       " 'SyntaxWarning',\n",
       " 'SystemError',\n",
       " 'SystemExit',\n",
       " 'TabError',\n",
       " 'TimeoutError',\n",
       " 'True',\n",
       " 'TypeError',\n",
       " 'UnboundLocalError',\n",
       " 'UnicodeDecodeError',\n",
       " 'UnicodeEncodeError',\n",
       " 'UnicodeError',\n",
       " 'UnicodeTranslateError',\n",
       " 'UnicodeWarning',\n",
       " 'UserWarning',\n",
       " 'ValueError',\n",
       " 'Warning',\n",
       " 'ZeroDivisionError',\n",
       " '__IPYTHON__',\n",
       " '__build_class__',\n",
       " '__debug__',\n",
       " '__doc__',\n",
       " '__import__',\n",
       " '__loader__',\n",
       " '__name__',\n",
       " '__package__',\n",
       " '__spec__',\n",
       " 'abs',\n",
       " 'aiter',\n",
       " 'all',\n",
       " 'anext',\n",
       " 'any',\n",
       " 'ascii',\n",
       " 'bin',\n",
       " 'bool',\n",
       " 'breakpoint',\n",
       " 'bytearray',\n",
       " 'bytes',\n",
       " 'callable',\n",
       " 'chr',\n",
       " 'classmethod',\n",
       " 'compile',\n",
       " 'complex',\n",
       " 'copyright',\n",
       " 'credits',\n",
       " 'delattr',\n",
       " 'dict',\n",
       " 'dir',\n",
       " 'display',\n",
       " 'divmod',\n",
       " 'enumerate',\n",
       " 'eval',\n",
       " 'exec',\n",
       " 'execfile',\n",
       " 'filter',\n",
       " 'float',\n",
       " 'format',\n",
       " 'frozenset',\n",
       " 'get_ipython',\n",
       " 'getattr',\n",
       " 'globals',\n",
       " 'hasattr',\n",
       " 'hash',\n",
       " 'help',\n",
       " 'hex',\n",
       " 'id',\n",
       " 'input',\n",
       " 'int',\n",
       " 'isinstance',\n",
       " 'issubclass',\n",
       " 'iter',\n",
       " 'len',\n",
       " 'license',\n",
       " 'list',\n",
       " 'locals',\n",
       " 'map',\n",
       " 'max',\n",
       " 'memoryview',\n",
       " 'min',\n",
       " 'next',\n",
       " 'object',\n",
       " 'oct',\n",
       " 'open',\n",
       " 'ord',\n",
       " 'pow',\n",
       " 'print',\n",
       " 'property',\n",
       " 'range',\n",
       " 'repr',\n",
       " 'reversed',\n",
       " 'round',\n",
       " 'runfile',\n",
       " 'set',\n",
       " 'setattr',\n",
       " 'slice',\n",
       " 'sorted',\n",
       " 'staticmethod',\n",
       " 'str',\n",
       " 'sum',\n",
       " 'super',\n",
       " 'tuple',\n",
       " 'type',\n",
       " 'vars',\n",
       " 'zip']"
      ]
     },
     "execution_count": 4,
     "metadata": {},
     "output_type": "execute_result"
    }
   ],
   "source": [
    "dir(builtins)"
   ]
  },
  {
   "cell_type": "code",
   "execution_count": 28,
   "id": "178180f1-d07d-4e52-b7fd-0026fb2d067c",
   "metadata": {},
   "outputs": [],
   "source": [
    "list = builtins.list"
   ]
  },
  {
   "cell_type": "code",
   "execution_count": 29,
   "id": "ae3fed11-75ef-47fa-ba7b-e9feb322521a",
   "metadata": {},
   "outputs": [],
   "source": [
    "examples = []"
   ]
  },
  {
   "cell_type": "code",
   "execution_count": 30,
   "id": "5c88961e-b5fe-44c4-a35d-c0160d011c5d",
   "metadata": {},
   "outputs": [],
   "source": [
    "for i in range(10):\n",
    "    examples.append(i**2)"
   ]
  },
  {
   "cell_type": "code",
   "execution_count": 31,
   "id": "866ecb02-9f65-4da4-ac95-a9974161fd57",
   "metadata": {},
   "outputs": [
    {
     "data": {
      "text/plain": [
       "[0, 1, 4, 9, 16, 25, 36, 49, 64, 81]"
      ]
     },
     "execution_count": 31,
     "metadata": {},
     "output_type": "execute_result"
    }
   ],
   "source": [
    "examples"
   ]
  },
  {
   "cell_type": "code",
   "execution_count": 32,
   "id": "ba071e22-43fe-49b0-b642-52cff619d0e4",
   "metadata": {},
   "outputs": [],
   "source": [
    "examples.append(10*10)"
   ]
  },
  {
   "cell_type": "code",
   "execution_count": 33,
   "id": "ddcc6229-a38a-461c-a9f2-dfcc9b7b1c97",
   "metadata": {},
   "outputs": [
    {
     "data": {
      "text/plain": [
       "[0, 1, 4, 9, 16, 25, 36, 49, 64, 81, 100]"
      ]
     },
     "execution_count": 33,
     "metadata": {},
     "output_type": "execute_result"
    }
   ],
   "source": [
    "examples"
   ]
  },
  {
   "cell_type": "code",
   "execution_count": 34,
   "id": "8319029e-ed1f-4bb0-b21c-8179614345bd",
   "metadata": {},
   "outputs": [],
   "source": [
    "autre_liste = [1, 2, 3]"
   ]
  },
  {
   "cell_type": "code",
   "execution_count": 35,
   "id": "65f6cb14-5972-4f5e-a756-31814dab6759",
   "metadata": {},
   "outputs": [
    {
     "data": {
      "text/plain": [
       "[0, 1, 4, 9, 16, 25, 36, 49, 64, 81, 100]"
      ]
     },
     "execution_count": 35,
     "metadata": {},
     "output_type": "execute_result"
    }
   ],
   "source": [
    "examples + autre_liste\n",
    "examples"
   ]
  },
  {
   "cell_type": "code",
   "execution_count": 36,
   "id": "edc1c55b-5360-43a5-9e27-2142be8c4b6e",
   "metadata": {},
   "outputs": [
    {
     "data": {
      "text/plain": [
       "[0, 1, 4, 9, 16, 25, 36, 49, 64, 81, 100, 1, 2, 3]"
      ]
     },
     "execution_count": 36,
     "metadata": {},
     "output_type": "execute_result"
    }
   ],
   "source": [
    "examples.extend(autre_liste)\n",
    "examples"
   ]
  },
  {
   "cell_type": "code",
   "execution_count": 37,
   "id": "cc5e2aa6-5c12-4e1b-b6c2-28b4a5ec4449",
   "metadata": {},
   "outputs": [
    {
     "data": {
      "text/plain": [
       "[0, 1, 4, 9, 16, 25, 36, 49, 64, 81, 100, 1, 2, 3, 4, 5, 6]"
      ]
     },
     "execution_count": 37,
     "metadata": {},
     "output_type": "execute_result"
    }
   ],
   "source": [
    "examples += [4, 5, 6]\n",
    "examples"
   ]
  },
  {
   "cell_type": "code",
   "execution_count": 38,
   "id": "f820b679-bb0c-41b0-8bf8-9ee6dd9c0f9c",
   "metadata": {},
   "outputs": [
    {
     "data": {
      "text/plain": [
       "4"
      ]
     },
     "execution_count": 38,
     "metadata": {},
     "output_type": "execute_result"
    }
   ],
   "source": [
    "examples[2]"
   ]
  },
  {
   "cell_type": "code",
   "execution_count": 43,
   "id": "16c99d30-c4e8-44e3-8412-424195eb0ca4",
   "metadata": {},
   "outputs": [
    {
     "data": {
      "text/plain": [
       "[0, 1, 4, 9, 0, 0, 16, 25, 36, 49, 64, 81, 100, 1, 2, 3, 4, 5, 6]"
      ]
     },
     "execution_count": 43,
     "metadata": {},
     "output_type": "execute_result"
    }
   ],
   "source": [
    "examples.insert(4, 0)\n",
    "examples"
   ]
  },
  {
   "cell_type": "code",
   "execution_count": 44,
   "id": "75aa4c0d-58b2-481e-b859-321bdf6e8b82",
   "metadata": {},
   "outputs": [
    {
     "name": "stdout",
     "output_type": "stream",
     "text": [
      "Help on list object:\n",
      "\n",
      "class list(object)\n",
      " |  list(iterable=(), /)\n",
      " |\n",
      " |  Built-in mutable sequence.\n",
      " |\n",
      " |  If no argument is given, the constructor creates a new empty list.\n",
      " |  The argument must be an iterable if specified.\n",
      " |\n",
      " |  Methods defined here:\n",
      " |\n",
      " |  __add__(self, value, /)\n",
      " |      Return self+value.\n",
      " |\n",
      " |  __contains__(self, key, /)\n",
      " |      Return bool(key in self).\n",
      " |\n",
      " |  __delitem__(self, key, /)\n",
      " |      Delete self[key].\n",
      " |\n",
      " |  __eq__(self, value, /)\n",
      " |      Return self==value.\n",
      " |\n",
      " |  __ge__(self, value, /)\n",
      " |      Return self>=value.\n",
      " |\n",
      " |  __getattribute__(self, name, /)\n",
      " |      Return getattr(self, name).\n",
      " |\n",
      " |  __getitem__(self, index, /)\n",
      " |      Return self[index].\n",
      " |\n",
      " |  __gt__(self, value, /)\n",
      " |      Return self>value.\n",
      " |\n",
      " |  __iadd__(self, value, /)\n",
      " |      Implement self+=value.\n",
      " |\n",
      " |  __imul__(self, value, /)\n",
      " |      Implement self*=value.\n",
      " |\n",
      " |  __init__(self, /, *args, **kwargs)\n",
      " |      Initialize self.  See help(type(self)) for accurate signature.\n",
      " |\n",
      " |  __iter__(self, /)\n",
      " |      Implement iter(self).\n",
      " |\n",
      " |  __le__(self, value, /)\n",
      " |      Return self<=value.\n",
      " |\n",
      " |  __len__(self, /)\n",
      " |      Return len(self).\n",
      " |\n",
      " |  __lt__(self, value, /)\n",
      " |      Return self<value.\n",
      " |\n",
      " |  __mul__(self, value, /)\n",
      " |      Return self*value.\n",
      " |\n",
      " |  __ne__(self, value, /)\n",
      " |      Return self!=value.\n",
      " |\n",
      " |  __repr__(self, /)\n",
      " |      Return repr(self).\n",
      " |\n",
      " |  __reversed__(self, /)\n",
      " |      Return a reverse iterator over the list.\n",
      " |\n",
      " |  __rmul__(self, value, /)\n",
      " |      Return value*self.\n",
      " |\n",
      " |  __setitem__(self, key, value, /)\n",
      " |      Set self[key] to value.\n",
      " |\n",
      " |  __sizeof__(self, /)\n",
      " |      Return the size of the list in memory, in bytes.\n",
      " |\n",
      " |  append(self, object, /)\n",
      " |      Append object to the end of the list.\n",
      " |\n",
      " |  clear(self, /)\n",
      " |      Remove all items from list.\n",
      " |\n",
      " |  copy(self, /)\n",
      " |      Return a shallow copy of the list.\n",
      " |\n",
      " |  count(self, value, /)\n",
      " |      Return number of occurrences of value.\n",
      " |\n",
      " |  extend(self, iterable, /)\n",
      " |      Extend list by appending elements from the iterable.\n",
      " |\n",
      " |  index(self, value, start=0, stop=9223372036854775807, /)\n",
      " |      Return first index of value.\n",
      " |\n",
      " |      Raises ValueError if the value is not present.\n",
      " |\n",
      " |  insert(self, index, object, /)\n",
      " |      Insert object before index.\n",
      " |\n",
      " |  pop(self, index=-1, /)\n",
      " |      Remove and return item at index (default last).\n",
      " |\n",
      " |      Raises IndexError if list is empty or index is out of range.\n",
      " |\n",
      " |  remove(self, value, /)\n",
      " |      Remove first occurrence of value.\n",
      " |\n",
      " |      Raises ValueError if the value is not present.\n",
      " |\n",
      " |  reverse(self, /)\n",
      " |      Reverse *IN PLACE*.\n",
      " |\n",
      " |  sort(self, /, *, key=None, reverse=False)\n",
      " |      Sort the list in ascending order and return None.\n",
      " |\n",
      " |      The sort is in-place (i.e. the list itself is modified) and stable (i.e. the\n",
      " |      order of two equal elements is maintained).\n",
      " |\n",
      " |      If a key function is given, apply it once to each list item and sort them,\n",
      " |      ascending or descending, according to their function values.\n",
      " |\n",
      " |      The reverse flag can be set to sort in descending order.\n",
      " |\n",
      " |  ----------------------------------------------------------------------\n",
      " |  Class methods defined here:\n",
      " |\n",
      " |  __class_getitem__(...) from builtins.type\n",
      " |      See PEP 585\n",
      " |\n",
      " |  ----------------------------------------------------------------------\n",
      " |  Static methods defined here:\n",
      " |\n",
      " |  __new__(*args, **kwargs) from builtins.type\n",
      " |      Create and return a new object.  See help(type) for accurate signature.\n",
      " |\n",
      " |  ----------------------------------------------------------------------\n",
      " |  Data and other attributes defined here:\n",
      " |\n",
      " |  __hash__ = None\n",
      "\n"
     ]
    }
   ],
   "source": [
    "help(examples)"
   ]
  },
  {
   "cell_type": "code",
   "execution_count": 47,
   "id": "35c2082c-a72c-4afc-bf53-74eb46e3a3e7",
   "metadata": {},
   "outputs": [
    {
     "data": {
      "text/plain": [
       "[6, 5, 4, 3, 2, 1, 100, 81, 64, 49, 36, 25, 16, 0, 0, 9, 4, 1, 0]"
      ]
     },
     "execution_count": 47,
     "metadata": {},
     "output_type": "execute_result"
    }
   ],
   "source": [
    "examples.reverse()\n",
    "examples"
   ]
  },
  {
   "cell_type": "code",
   "execution_count": 48,
   "id": "18478516-12e8-45f1-86e4-a687e68620c1",
   "metadata": {},
   "outputs": [
    {
     "data": {
      "text/plain": [
       "[6, 5, 4, 3, 2, 1, 100, 81, 64, 49, 36, 25, 16, 0, 0, 9, 4, 1, 0]"
      ]
     },
     "execution_count": 48,
     "metadata": {},
     "output_type": "execute_result"
    }
   ],
   "source": [
    "examples"
   ]
  },
  {
   "cell_type": "code",
   "execution_count": 57,
   "id": "b80c9ebf-c49c-4b4c-b26c-b9b2e0851560",
   "metadata": {},
   "outputs": [
    {
     "data": {
      "text/plain": [
       "[2, 1, 100, 81, 64, 49]"
      ]
     },
     "execution_count": 57,
     "metadata": {},
     "output_type": "execute_result"
    }
   ],
   "source": [
    "examples[4:10]"
   ]
  },
  {
   "cell_type": "code",
   "execution_count": 50,
   "id": "4f56cab4-45b3-42c7-8d9a-c872e489d7db",
   "metadata": {},
   "outputs": [
    {
     "data": {
      "text/plain": [
       "[6, 5, 4, 3]"
      ]
     },
     "execution_count": 50,
     "metadata": {},
     "output_type": "execute_result"
    }
   ],
   "source": [
    "examples[:4]"
   ]
  },
  {
   "cell_type": "code",
   "execution_count": 51,
   "id": "ef4bdde4-54ae-49cb-ab56-7ef8a36a2a27",
   "metadata": {},
   "outputs": [
    {
     "data": {
      "text/plain": [
       "[2, 1, 100, 81, 64, 49]"
      ]
     },
     "execution_count": 51,
     "metadata": {},
     "output_type": "execute_result"
    }
   ],
   "source": [
    "examples[4:10]"
   ]
  },
  {
   "cell_type": "code",
   "execution_count": 52,
   "id": "7339cd98-cf96-457a-855a-9b28a5bea050",
   "metadata": {},
   "outputs": [
    {
     "data": {
      "text/plain": [
       "[36, 25, 16, 0, 0, 9, 4, 1, 0]"
      ]
     },
     "execution_count": 52,
     "metadata": {},
     "output_type": "execute_result"
    }
   ],
   "source": [
    "examples[10:]"
   ]
  },
  {
   "cell_type": "code",
   "execution_count": 53,
   "id": "1e0cea04-f116-448f-81e8-9c998a9f1044",
   "metadata": {},
   "outputs": [
    {
     "data": {
      "text/plain": [
       "[6, 4, 2, 100, 64, 36, 16, 0, 4, 0]"
      ]
     },
     "execution_count": 53,
     "metadata": {},
     "output_type": "execute_result"
    }
   ],
   "source": [
    "examples[::2]"
   ]
  },
  {
   "cell_type": "code",
   "execution_count": 55,
   "id": "9babca8e-0234-4a4a-821c-b1cd17bee519",
   "metadata": {},
   "outputs": [
    {
     "data": {
      "text/plain": [
       "[5, 3, 1, 81, 49]"
      ]
     },
     "execution_count": 55,
     "metadata": {},
     "output_type": "execute_result"
    }
   ],
   "source": [
    "examples[1:10:2]"
   ]
  },
  {
   "cell_type": "code",
   "execution_count": 58,
   "id": "d65fc0f8-163b-4cd2-8c8d-8ccda9a7bcd2",
   "metadata": {},
   "outputs": [
    {
     "ename": "IndexError",
     "evalue": "list index out of range",
     "output_type": "error",
     "traceback": [
      "\u001b[0;31m---------------------------------------------------------------------------\u001b[0m",
      "\u001b[0;31mIndexError\u001b[0m                                Traceback (most recent call last)",
      "Cell \u001b[0;32mIn[58], line 1\u001b[0m\n\u001b[0;32m----> 1\u001b[0m \u001b[43mexamples\u001b[49m\u001b[43m[\u001b[49m\u001b[38;5;241;43m1000\u001b[39;49m\u001b[43m]\u001b[49m\n",
      "\u001b[0;31mIndexError\u001b[0m: list index out of range"
     ]
    }
   ],
   "source": [
    "examples[1000]"
   ]
  },
  {
   "cell_type": "code",
   "execution_count": 59,
   "id": "7dda6997-9f64-4d49-80b6-de26c5caadbd",
   "metadata": {},
   "outputs": [
    {
     "data": {
      "text/plain": [
       "[]"
      ]
     },
     "execution_count": 59,
     "metadata": {},
     "output_type": "execute_result"
    }
   ],
   "source": [
    "examples[100:1000]"
   ]
  },
  {
   "cell_type": "code",
   "execution_count": 66,
   "id": "903f586d-ec76-449b-bdfd-3c032432ebf4",
   "metadata": {},
   "outputs": [
    {
     "data": {
      "text/plain": [
       "[25, 36, 49, 64, 81, 100, 1]"
      ]
     },
     "execution_count": 66,
     "metadata": {},
     "output_type": "execute_result"
    }
   ],
   "source": [
    "examples[-8:-15:-1]"
   ]
  },
  {
   "cell_type": "code",
   "execution_count": 63,
   "id": "6a7c33f5-e2f3-4de5-86eb-0ecfb17326a3",
   "metadata": {},
   "outputs": [
    {
     "data": {
      "text/plain": [
       "[6, 5, 4, 3, 2, 1, 100, 81, 64, 49, 36, 25, 16, 0, 0, 9, 4, 1, 0]"
      ]
     },
     "execution_count": 63,
     "metadata": {},
     "output_type": "execute_result"
    }
   ],
   "source": [
    "examples"
   ]
  },
  {
   "cell_type": "code",
   "execution_count": 73,
   "id": "4650c477-24a3-481c-9d67-35f8226a8bc0",
   "metadata": {},
   "outputs": [],
   "source": [
    "my_tuple = (1, 2, 3, 4)"
   ]
  },
  {
   "cell_type": "code",
   "execution_count": 74,
   "id": "5ac2f7e3-99b5-4c31-8192-5c8c0a227452",
   "metadata": {},
   "outputs": [
    {
     "data": {
      "text/plain": [
       "(1, 2, 3, 4)"
      ]
     },
     "execution_count": 74,
     "metadata": {},
     "output_type": "execute_result"
    }
   ],
   "source": [
    "my_tuple"
   ]
  },
  {
   "cell_type": "code",
   "execution_count": 75,
   "id": "68f86e91-df27-42ff-976d-fce7dbee8284",
   "metadata": {},
   "outputs": [
    {
     "data": {
      "text/plain": [
       "[6, 5, 4, 3, 2, 1, 100, 81, 64, 49, 1000, 25, 16, 0, 0, 9, 4, 1, 0]"
      ]
     },
     "execution_count": 75,
     "metadata": {},
     "output_type": "execute_result"
    }
   ],
   "source": [
    "examples[10] = 1000\n",
    "examples"
   ]
  },
  {
   "cell_type": "code",
   "execution_count": 78,
   "id": "9074216d-ff74-492e-b811-053659d052ff",
   "metadata": {},
   "outputs": [
    {
     "ename": "TypeError",
     "evalue": "'tuple' object does not support item assignment",
     "output_type": "error",
     "traceback": [
      "\u001b[0;31m---------------------------------------------------------------------------\u001b[0m",
      "\u001b[0;31mTypeError\u001b[0m                                 Traceback (most recent call last)",
      "Cell \u001b[0;32mIn[78], line 1\u001b[0m\n\u001b[0;32m----> 1\u001b[0m \u001b[43mmy_tuple\u001b[49m\u001b[43m[\u001b[49m\u001b[38;5;241;43m3\u001b[39;49m\u001b[43m]\u001b[49m \u001b[38;5;241m=\u001b[39m \u001b[38;5;241m100\u001b[39m\n",
      "\u001b[0;31mTypeError\u001b[0m: 'tuple' object does not support item assignment"
     ]
    }
   ],
   "source": [
    "my_tuple[3] = 100"
   ]
  },
  {
   "cell_type": "code",
   "execution_count": 79,
   "id": "d7a319ff-82d9-4f58-8952-a2c3d7c0c709",
   "metadata": {},
   "outputs": [
    {
     "ename": "TypeError",
     "evalue": "'str' object does not support item assignment",
     "output_type": "error",
     "traceback": [
      "\u001b[0;31m---------------------------------------------------------------------------\u001b[0m",
      "\u001b[0;31mTypeError\u001b[0m                                 Traceback (most recent call last)",
      "Cell \u001b[0;32mIn[79], line 2\u001b[0m\n\u001b[1;32m      1\u001b[0m s \u001b[38;5;241m=\u001b[39m \u001b[38;5;124m\"\u001b[39m\u001b[38;5;124msalut les gars\u001b[39m\u001b[38;5;124m\"\u001b[39m\n\u001b[0;32m----> 2\u001b[0m \u001b[43ms\u001b[49m\u001b[43m[\u001b[49m\u001b[38;5;241;43m3\u001b[39;49m\u001b[43m]\u001b[49m \u001b[38;5;241m=\u001b[39m \u001b[38;5;124m\"\u001b[39m\u001b[38;5;124mT\u001b[39m\u001b[38;5;124m\"\u001b[39m\n",
      "\u001b[0;31mTypeError\u001b[0m: 'str' object does not support item assignment"
     ]
    }
   ],
   "source": [
    "s = \"salut les gars\"\n",
    "s[3] = \"T\""
   ]
  },
  {
   "cell_type": "code",
   "execution_count": 82,
   "id": "a260c22a-1699-4a6a-ae9e-06975b551e63",
   "metadata": {},
   "outputs": [
    {
     "name": "stdout",
     "output_type": "stream",
     "text": [
      "s\n",
      "a\n",
      "l\n",
      "u\n",
      "t\n",
      " \n",
      "l\n",
      "e\n",
      "s\n",
      " \n",
      "g\n",
      "a\n",
      "r\n",
      "s\n"
     ]
    }
   ],
   "source": [
    "for element in s:\n",
    "    print(element)"
   ]
  },
  {
   "cell_type": "code",
   "execution_count": 105,
   "id": "d346e9ba-68e1-481a-97b5-771bf16541be",
   "metadata": {},
   "outputs": [
    {
     "name": "stdout",
     "output_type": "stream",
     "text": [
      "import pandas\n",
      "\n",
      "print(\"hello world\")\n",
      "print(1 == 2)\n",
      "\n",
      "\n",
      "def fizzbuzz() -> int:\n",
      "    for nombre in range(1, 101):\n",
      "        resultat = \"\"\n",
      "        if nombre % 3 == 0:\n"
     ]
    }
   ],
   "source": [
    "f = open(\"./hello_world.py\", encoding=\"utf8\")\n",
    "lines = f.readlines()\n",
    "\n",
    "index = 0\n",
    "for line in lines:\n",
    "    if index > 10:\n",
    "        break\n",
    "    #print(line, end=\"\")\n",
    "    #line = line.rstrip()\n",
    "    #print(line)\n",
    "    \n",
    "    #print(line[:-1])\n",
    "    #index += 1\n",
    "\n",
    "#for line in lines:\n",
    "#    print(line)\n",
    "\n",
    "\n",
    "for line in lines[:10]:\n",
    "    line = line.rstrip()\n",
    "    print(line)\n",
    "\n",
    "    \n",
    "# faire un programme \n",
    "# qui prend un fichier arbitraire\n",
    "# * affiche les 5 premières lignes (head)\n",
    "# * affiche les 5 dernières lignes (tail)\n",
    "# tout passer sous forme de fonction qui accepte le nombre de lignes et le fichier \n",
    "# faire une CLI avec click "
   ]
  },
  {
   "cell_type": "code",
   "execution_count": 84,
   "id": "7cee3e65-f5d4-43b2-a7e8-a311063247ba",
   "metadata": {},
   "outputs": [],
   "source": [
    "f.close()"
   ]
  },
  {
   "cell_type": "code",
   "execution_count": 97,
   "id": "cfff8789-95b7-44e0-92aa-bed64be65e76",
   "metadata": {},
   "outputs": [
    {
     "name": "stdout",
     "output_type": "stream",
     "text": [
      "Help on built-in function print in module builtins:\n",
      "\n",
      "print(*args, sep=' ', end='\\n', file=None, flush=False)\n",
      "    Prints the values to a stream, or to sys.stdout by default.\n",
      "\n",
      "    sep\n",
      "      string inserted between values, default a space.\n",
      "    end\n",
      "      string appended after the last value, default a newline.\n",
      "    file\n",
      "      a file-like object (stream); defaults to the current sys.stdout.\n",
      "    flush\n",
      "      whether to forcibly flush the stream.\n",
      "\n"
     ]
    }
   ],
   "source": [
    "help(print)"
   ]
  },
  {
   "cell_type": "code",
   "execution_count": 110,
   "id": "bf57a716-6049-427c-9492-173b4844dca7",
   "metadata": {},
   "outputs": [
    {
     "name": "stdout",
     "output_type": "stream",
     "text": [
      "import pandas\n",
      "\n",
      "print(\"hello world\")\n",
      "print(1 == 2)\n",
      "\n",
      "\n",
      "def fizzbuzz() -> int:\n",
      "    for nombre in range(1, 101):\n",
      "        resultat = \"\"\n",
      "        if nombre % 3 == 0:\n",
      "            resultat = resultat + \"fizz\"\n",
      "import pandas\n",
      "\n",
      "print(\"hello world\")\n",
      "print(1 == 2)\n",
      "\n",
      "\n",
      "def fizzbuzz() -> int:\n",
      "    for nombre in range(1, 101):\n",
      "        resultat = \"\"\n",
      "        if nombre % 3 == 0:\n",
      "import pandas\n",
      "\n",
      "print(\"hello world\")\n",
      "print(1 == 2)\n",
      "\n",
      "\n",
      "def fizzbuzz() -> int:\n",
      "    for nombre in range(1, 101):\n",
      "        resultat = \"\"\n",
      "        if nombre % 3 == 0:\n",
      "import pandas\n",
      "\n",
      "print(\"hello world\")\n",
      "print(1 == 2)\n",
      "\n",
      "\n",
      "def fizzbuzz() -> int:\n",
      "    for nombre in range(1, 101):\n",
      "        resultat = \"\"\n",
      "        if nombre % 3 == 0:\n",
      "\n"
     ]
    }
   ],
   "source": [
    "f = open(\"./hello_world.py\", encoding=\"utf8\")\n",
    "\n",
    "##############\n",
    "\n",
    "index = 0\n",
    "for line in lines:\n",
    "    if index > 10:\n",
    "        break\n",
    "    print(line, end=\"\")\n",
    "    index += 1\n",
    "\n",
    "###############\n",
    "\n",
    "for index in range(10):\n",
    "    print(lines[index], end=\"\")\n",
    "    \n",
    "###############\n",
    "\n",
    "for line in lines[:10]:\n",
    "    print(line, end=\"\")\n",
    "\n",
    "###############\n",
    "\n",
    "print(\"\".join(lines[:10]))"
   ]
  },
  {
   "cell_type": "code",
   "execution_count": 121,
   "id": "b869974d-e914-459b-af89-34de1bbe952f",
   "metadata": {},
   "outputs": [
    {
     "data": {
      "text/plain": [
       "['salut', 'les', 'copains']"
      ]
     },
     "execution_count": 121,
     "metadata": {},
     "output_type": "execute_result"
    }
   ],
   "source": [
    "\"salut les copains\".split() "
   ]
  },
  {
   "cell_type": "code",
   "execution_count": 118,
   "id": "c8b03d24-f1c7-4320-b39c-8ef7c5f9ed2b",
   "metadata": {},
   "outputs": [
    {
     "data": {
      "text/plain": [
       "'salutOHCESTSUPERlesOHCESTSUPERcopains'"
      ]
     },
     "execution_count": 118,
     "metadata": {},
     "output_type": "execute_result"
    }
   ],
   "source": [
    "\"OHCESTSUPER\".join(['salut', 'les', 'copains'])"
   ]
  },
  {
   "cell_type": "code",
   "execution_count": 122,
   "id": "514362e4-a666-40ee-aa5f-a340117a0ea7",
   "metadata": {},
   "outputs": [
    {
     "name": "stdout",
     "output_type": "stream",
     "text": [
      "9\n"
     ]
    }
   ],
   "source": [
    "for erftyhu in range(10):\n",
    "    pass \n",
    "\n",
    "print(erftyhu)"
   ]
  },
  {
   "cell_type": "code",
   "execution_count": 125,
   "id": "6b869811-3e7a-46d2-acd3-bde76d25f4ba",
   "metadata": {},
   "outputs": [
    {
     "data": {
      "text/plain": [
       "3"
      ]
     },
     "execution_count": 125,
     "metadata": {},
     "output_type": "execute_result"
    }
   ],
   "source": [
    "toto = True\n",
    "if toto == True:\n",
    "    zertgyhth = 3\n",
    "\n",
    "zertgyhth"
   ]
  },
  {
   "cell_type": "markdown",
   "id": "827e1656-a446-4076-8b67-a0866575e379",
   "metadata": {},
   "source": [
    "List comprehensions\n",
    "\n",
    "```python \n",
    "[x for x in p.iterdir() if x.is_dir()]\n",
    "<->\n",
    "dirs = []\n",
    "for x in p.iterdir():\n",
    "    if x.is_dir():\n",
    "        dirs.append(x)\n",
    "```"
   ]
  },
  {
   "cell_type": "code",
   "execution_count": 204,
   "id": "75a78798-08b8-4ff2-987d-98133dda10b7",
   "metadata": {},
   "outputs": [
    {
     "name": "stdout",
     "output_type": "stream",
     "text": [
      "hello_world.py       fait   340 octets 1\n",
      "unix.py              fait   538 octets 1\n",
      ".gitkeep             fait     0 octets 1\n",
      "cli                  fait   224 octets 1\n",
      "Jour 2.ipynb         fait 35714 octets 1\n",
      ".ipynb_checkpoints   fait   128 octets 1\n",
      "Jour 1.ipynb         fait 12038 octets 1\n"
     ]
    }
   ],
   "source": [
    "from pathlib import Path\n",
    "for path in Path(\".\").iterdir():\n",
    "    d = {\"a\": 1}\n",
    "    print(f\"{path!s:<20} fait {path.stat().st_size:>5} octets {d['a']}\")"
   ]
  },
  {
   "cell_type": "code",
   "execution_count": 181,
   "id": "5d1a2c06-a098-444b-8213-ca0b29d040de",
   "metadata": {},
   "outputs": [
    {
     "name": "stdout",
     "output_type": "stream",
     "text": [
      "hello_world.py        340\n",
      "unix.py               538\n",
      ".gitkeep                0\n",
      "cli                   224\n",
      "Jour 2.ipynb        32097\n",
      ".ipynb_checkpoi       128\n",
      "Jour 1.ipynb        12038\n"
     ]
    }
   ],
   "source": [
    "for path in Path(\".\").iterdir():\n",
    "    print(f\"{path!s:20.15}{path.stat().st_size:>5}\")"
   ]
  },
  {
   "cell_type": "code",
   "execution_count": 129,
   "id": "99284b44-2865-45a0-9c65-a50a5325873d",
   "metadata": {},
   "outputs": [
    {
     "data": {
      "text/plain": [
       "PosixPath('/etc/init.d/reboot')"
      ]
     },
     "execution_count": 129,
     "metadata": {},
     "output_type": "execute_result"
    }
   ],
   "source": [
    "q"
   ]
  },
  {
   "cell_type": "code",
   "execution_count": 182,
   "id": "455996d2-02d7-40eb-b0e4-8d32024550a6",
   "metadata": {},
   "outputs": [
    {
     "name": "stderr",
     "output_type": "stream",
     "text": [
      "<>:1: SyntaxWarning: invalid escape sequence '\\d'\n",
      "<>:1: SyntaxWarning: invalid escape sequence '\\d'\n",
      "/var/folders/rr/0f1xn9ts4j9fvch4kzrq3qfw0000gn/T/ipykernel_15483/1209350061.py:1: SyntaxWarning: invalid escape sequence '\\d'\n",
      "  i_re = f'([(\\d\\.)]+)'\n"
     ]
    }
   ],
   "source": [
    "i_re = f'([(\\d\\.)]+)'\n",
    "reg = r'{ip_re} - - \\[(.*?)\\] \\\"(.*?)\\\" (\\d+) (\\d+) \\\"(.*?)\\\"'"
   ]
  },
  {
   "cell_type": "code",
   "execution_count": 195,
   "id": "c6722d53-c0eb-4a2c-b848-c4b6e7690e0e",
   "metadata": {},
   "outputs": [
    {
     "name": "stdout",
     "output_type": "stream",
     "text": [
      "il est 16h28 et on est                          jeudi\n",
      "il est 16h28 et on est                          jeudi\n"
     ]
    }
   ],
   "source": [
    "print(\"il est %s et on est %30s\" % (\"16h28\", \"jeudi\"))\n",
    "print(\"il est {} et on est {:>30}\".format(\"16h28\", \"jeudi\"))"
   ]
  },
  {
   "cell_type": "markdown",
   "id": "4dd3a409-6a7f-4ad2-8cfa-c3e6586d6bae",
   "metadata": {},
   "source": [
    "Extensions pour faire du code suivant des bonnes pratiques : \n",
    "* ruff : formattage + analyse statique \n",
    "* mypy : analyse des types \n",
    "* pylint : analyse globale des bonnes pratiques \n",
    "* complexité de mccabe : pour savoir si notre programme est trop complexe (fonctions trop longues, nieau d'imbrications...)"
   ]
  },
  {
   "cell_type": "markdown",
   "id": "8fbfa469-34e9-47a6-81a8-e2b4ec89cd52",
   "metadata": {},
   "source": [
    "# Types"
   ]
  },
  {
   "cell_type": "code",
   "execution_count": null,
   "id": "5819acdd-c4c3-4036-b794-2185d45a223c",
   "metadata": {},
   "outputs": [],
   "source": [
    "d = {}\n"
   ]
  }
 ],
 "metadata": {
  "kernelspec": {
   "display_name": "Python 3 (ipykernel)",
   "language": "python",
   "name": "python3"
  },
  "language_info": {
   "codemirror_mode": {
    "name": "ipython",
    "version": 3
   },
   "file_extension": ".py",
   "mimetype": "text/x-python",
   "name": "python",
   "nbconvert_exporter": "python",
   "pygments_lexer": "ipython3",
   "version": "3.12.2"
  }
 },
 "nbformat": 4,
 "nbformat_minor": 5
}
