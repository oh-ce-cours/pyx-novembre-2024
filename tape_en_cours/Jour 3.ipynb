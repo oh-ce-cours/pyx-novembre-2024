{
 "cells": [
  {
   "cell_type": "markdown",
   "id": "8f149893-9d69-41f8-83f4-7062d6f1c9fe",
   "metadata": {},
   "source": [
    "A voir : \n",
    "* débugger \n",
    "* flask / fastapi \n",
    "* poo / comment créer des __init__\n",
    "* les bibliothèques à ne pas utiliser\n",
    "* logs\n",
    "\n",
    "Ressources : \n",
    "* https://perso.limsi.fr/pointal/python:memento"
   ]
  },
  {
   "cell_type": "markdown",
   "id": "34bf4310-8b02-4218-959d-1b7ea1885336",
   "metadata": {},
   "source": [
    "# POO"
   ]
  },
  {
   "cell_type": "code",
   "execution_count": 160,
   "id": "2459667d-ed51-46ee-b4bb-487eb26b3c49",
   "metadata": {},
   "outputs": [
    {
     "data": {
      "text/plain": [
       "'\\nclass Voiture:\\n    owner = Personne\\n\\nvoiture.owner.age\\n'"
      ]
     },
     "execution_count": 160,
     "metadata": {},
     "output_type": "execute_result"
    }
   ],
   "source": [
    "import json\n",
    "\n",
    "class Personne:\n",
    "    def __init__(self, name , age, sexe=None):\n",
    "        print(\"dans le __init__\")\n",
    "        self.__name = name\n",
    "        self.__age = age\n",
    "        self.sexe = sexe\n",
    "\n",
    "    def to_json(self):\n",
    "        json.dump({\"name\": self.__name, \"age\": self.__age, \"sex\": self.sexe}, open(\"person.json\", \"w\"))\n",
    "    \n",
    "    def presenter(self):\n",
    "        return (f\"Je suis {self.__name} et j'ai {self.__age} ans et suis de sexe {self.sexe}\") \n",
    "\n",
    "    @property\n",
    "    def name(self):\n",
    "        print(\"dans le getter\")\n",
    "        return self.__name \n",
    "\n",
    "    @name.setter\n",
    "    def name(self, name):\n",
    "        print(\"dans le setter\")\n",
    "        self.__name = name \n",
    "        self.to_json()\n",
    "\n",
    "    def set_age(self, age):\n",
    "        self.__age = age\n",
    "        self.to_json()\n",
    "\n",
    "    def get_age(self):\n",
    "        return self.__age\n",
    "\n",
    "    age = property(get_age, set_age)\n",
    "\n",
    "    \n",
    "    def __str__(self):\n",
    "        return self.presenter()\n",
    "\n",
    "\"\"\"\n",
    "class Voiture:\n",
    "    owner = Personne\n",
    "\n",
    "voiture.owner.age\n",
    "\"\"\"\n"
   ]
  },
  {
   "cell_type": "code",
   "execution_count": 161,
   "id": "d2eab7cf-2f51-4574-ac89-6177c9a0f470",
   "metadata": {},
   "outputs": [
    {
     "name": "stdout",
     "output_type": "stream",
     "text": [
      "dans le __init__\n"
     ]
    }
   ],
   "source": [
    "p1 = Personne(\"Matthieu\", 32)"
   ]
  },
  {
   "cell_type": "code",
   "execution_count": 162,
   "id": "f934a470-1591-441a-b548-9b6180a17dba",
   "metadata": {},
   "outputs": [
    {
     "name": "stdout",
     "output_type": "stream",
     "text": [
      "dans le setter\n"
     ]
    }
   ],
   "source": [
    "p1.name = \"fifi\""
   ]
  },
  {
   "cell_type": "code",
   "execution_count": 163,
   "id": "f6f43524-4058-467c-aecc-f2feef5cde1d",
   "metadata": {},
   "outputs": [
    {
     "name": "stdout",
     "output_type": "stream",
     "text": [
      "dans le __init__\n"
     ]
    }
   ],
   "source": [
    "p2 = Personne(\"Pierre\", 28, \"M\")"
   ]
  },
  {
   "cell_type": "code",
   "execution_count": 164,
   "id": "2398c5bf-a902-4869-8217-bcaacc4e9881",
   "metadata": {},
   "outputs": [
    {
     "name": "stdout",
     "output_type": "stream",
     "text": [
      "dans le getter\n"
     ]
    },
    {
     "data": {
      "text/plain": [
       "'Pierre'"
      ]
     },
     "execution_count": 164,
     "metadata": {},
     "output_type": "execute_result"
    }
   ],
   "source": [
    "p2.name"
   ]
  },
  {
   "cell_type": "code",
   "execution_count": 165,
   "id": "c633051e-392c-4ddf-a727-753c2f46ba70",
   "metadata": {},
   "outputs": [],
   "source": [
    "def presenter(nom, age):\n",
    "    print(f\"Je suis {nom} et j'ai {age}\") \n"
   ]
  },
  {
   "cell_type": "code",
   "execution_count": 112,
   "id": "fba81a7c-5a4d-4f78-a5f6-c2e49e7a639f",
   "metadata": {},
   "outputs": [
    {
     "data": {
      "text/plain": [
       "\"Je suis Matthieu et j'ai 32 ans et suis de sexe None\""
      ]
     },
     "execution_count": 112,
     "metadata": {},
     "output_type": "execute_result"
    }
   ],
   "source": [
    "p1.presenter()"
   ]
  },
  {
   "cell_type": "code",
   "execution_count": null,
   "id": "af260cb6-549c-49dd-8beb-bc796e8f3d21",
   "metadata": {},
   "outputs": [],
   "source": []
  },
  {
   "cell_type": "code",
   "execution_count": 113,
   "id": "cbe8801a-3ab1-4d2b-88fa-037923c55b63",
   "metadata": {},
   "outputs": [],
   "source": [
    "#d = {\"nameDN\": \"toto\", \"valueDN\": \"1\", \"nameRegistry\": \"riri\", \"valueRegistry\": \"fifi\", \"customValues\": [{\"name\": \"riri\", \"value\": \"fifi\"}]}\n",
    "def config_normal():\n",
    "    return {\"nameDN\": \"toto\", \"valueDN\": \"1\", \"nameRegistry\": \"riri\", \"valueRegistry\": \"fifi\"}\n",
    "def config_custom():\n",
    "    return {\"customValues\": [{\"name\": \"riri\", \"value\": \"fifi\"}]}\n",
    "\n",
    "d = {}\n",
    "d.update(config_normal())\n",
    "d.update(config_custom())"
   ]
  },
  {
   "cell_type": "code",
   "execution_count": 114,
   "id": "71ebd9c5-9ed8-4502-a331-48d6191bf853",
   "metadata": {},
   "outputs": [
    {
     "data": {
      "text/plain": [
       "{'nameDN': 'toto',\n",
       " 'valueDN': '1',\n",
       " 'nameRegistry': 'riri',\n",
       " 'valueRegistry': 'fifi',\n",
       " 'customValues': [{'name': 'riri', 'value': 'fifi'}]}"
      ]
     },
     "execution_count": 114,
     "metadata": {},
     "output_type": "execute_result"
    }
   ],
   "source": [
    "d"
   ]
  },
  {
   "cell_type": "code",
   "execution_count": 115,
   "id": "e7d2b913-bb2c-4ff1-ad3b-ff2b7b542b17",
   "metadata": {},
   "outputs": [
    {
     "name": "stdout",
     "output_type": "stream",
     "text": [
      "Je suis Matthieu et j'ai 32 ans et suis de sexe None\n"
     ]
    }
   ],
   "source": [
    "print(str(p1))"
   ]
  },
  {
   "cell_type": "code",
   "execution_count": 157,
   "id": "0839397a-c5cc-445a-901e-bf0bbac94623",
   "metadata": {},
   "outputs": [],
   "source": [
    "p1.to_json()"
   ]
  },
  {
   "cell_type": "code",
   "execution_count": 158,
   "id": "51291acf-bf70-459d-9f52-2a16fef352c7",
   "metadata": {},
   "outputs": [],
   "source": [
    "#p1.set_name(\"Mathieu\")"
   ]
  },
  {
   "cell_type": "code",
   "execution_count": 141,
   "id": "eabda010-ac2b-442a-8192-98a5be296821",
   "metadata": {},
   "outputs": [],
   "source": [
    "p1._Personne__name = \"riri\""
   ]
  },
  {
   "cell_type": "code",
   "execution_count": 142,
   "id": "65786283-d2a6-4fa9-9e0a-2dcb1837982c",
   "metadata": {},
   "outputs": [
    {
     "data": {
      "text/plain": [
       "\"Je suis riri et j'ai 32 ans et suis de sexe None\""
      ]
     },
     "execution_count": 142,
     "metadata": {},
     "output_type": "execute_result"
    }
   ],
   "source": [
    "p1.presenter()"
   ]
  },
  {
   "cell_type": "code",
   "execution_count": 140,
   "id": "f3060dc4-ab7d-4e91-a5b9-dfad4d627623",
   "metadata": {},
   "outputs": [
    {
     "data": {
      "text/plain": [
       "['_Personne__name',\n",
       " '__class__',\n",
       " '__delattr__',\n",
       " '__dict__',\n",
       " '__dir__',\n",
       " '__doc__',\n",
       " '__eq__',\n",
       " '__format__',\n",
       " '__ge__',\n",
       " '__getattribute__',\n",
       " '__getstate__',\n",
       " '__gt__',\n",
       " '__hash__',\n",
       " '__init__',\n",
       " '__init_subclass__',\n",
       " '__le__',\n",
       " '__lt__',\n",
       " '__module__',\n",
       " '__ne__',\n",
       " '__new__',\n",
       " '__reduce__',\n",
       " '__reduce_ex__',\n",
       " '__repr__',\n",
       " '__setattr__',\n",
       " '__sizeof__',\n",
       " '__str__',\n",
       " '__subclasshook__',\n",
       " '__weakref__',\n",
       " 'age',\n",
       " 'presenter',\n",
       " 'set_name',\n",
       " 'sexe',\n",
       " 'to_json']"
      ]
     },
     "execution_count": 140,
     "metadata": {},
     "output_type": "execute_result"
    }
   ],
   "source": [
    "dir(p1)"
   ]
  },
  {
   "cell_type": "code",
   "execution_count": 166,
   "id": "2acc05e3-1613-4bc4-ad2b-3f0d5f391e17",
   "metadata": {},
   "outputs": [],
   "source": [
    "p1.age = 99"
   ]
  },
  {
   "cell_type": "code",
   "execution_count": 174,
   "id": "4d39d736-016f-49f4-92bd-2029fff4e3ce",
   "metadata": {},
   "outputs": [],
   "source": [
    "s = \"\"\"\n",
    "        #salut If using test-module.py and explode, the remote lib path will resemble:\n",
    "        #   /tmp test_module_scratch debug_dir ansible module_utils basic.py\n",
    "        # If using ansible or ansible-playbook with a remote system:\n",
    "        #   /tmp ansible_vmweLQ ansible_modlib.zip ansible module_utils basic.py\n",
    "\"\"\""
   ]
  },
  {
   "cell_type": "code",
   "execution_count": 175,
   "id": "aee74e29-1b09-46de-a0da-80f947f79db7",
   "metadata": {},
   "outputs": [
    {
     "data": {
      "text/plain": [
       "36"
      ]
     },
     "execution_count": 175,
     "metadata": {},
     "output_type": "execute_result"
    }
   ],
   "source": [
    "len(s.split())"
   ]
  },
  {
   "cell_type": "code",
   "execution_count": 177,
   "id": "2b1f81b2-0075-4089-8e1e-a943c2b80b87",
   "metadata": {},
   "outputs": [
    {
     "name": "stdout",
     "output_type": "stream",
     "text": [
      "{'If': 2, 'using': 2, 'test-module.py': 1, 'and': 1, 'explode,': 1, 'the': 1, 'remote': 2, 'lib': 1, 'path': 1, 'will': 1, 'resemble:': 1, '/tmp': 2, 'test_module_scratch': 1, 'debug_dir': 1, 'ansible': 3, 'module_utils': 2, 'basic.py': 2, 'or': 1, 'ansible-playbook': 1, 'with': 1, 'a': 1, 'system:': 1, 'ansible_vmweLQ': 1, 'ansible_modlib.zip': 1}\n"
     ]
    }
   ],
   "source": [
    "count = {}\n",
    "for word in s.split():\n",
    "    if word.startswith(\"#\"):\n",
    "        continue\n",
    "    if word in count: \n",
    "        count[word] += 1 \n",
    "    else:\n",
    "        count[word] = 1\n",
    "print(count)"
   ]
  },
  {
   "cell_type": "code",
   "execution_count": 179,
   "id": "ea0194a8-9f94-4596-b534-794cd32504c6",
   "metadata": {},
   "outputs": [
    {
     "name": "stdout",
     "output_type": "stream",
     "text": [
      "{'If': 2, 'using': 2, 'test-module.py': 1, 'and': 1, 'explode,': 1, 'the': 1, 'remote': 2, 'lib': 1, 'path': 1, 'will': 1, 'resemble:': 1, '/tmp': 2, 'test_module_scratch': 1, 'debug_dir': 1, 'ansible': 3, 'module_utils': 2, 'basic.py': 2, 'or': 1, 'ansible-playbook': 1, 'with': 1, 'a': 1, 'system:': 1, 'ansible_vmweLQ': 1, 'ansible_modlib.zip': 1}\n"
     ]
    }
   ],
   "source": [
    "count = {}\n",
    "for word in s.split():\n",
    "    if word.startswith(\"#\"):\n",
    "        continue\n",
    "    if word not in count: \n",
    "        count[word] = 0\n",
    "    count[word] += 1 \n",
    "\n",
    "print(count)"
   ]
  },
  {
   "cell_type": "code",
   "execution_count": null,
   "id": "4b30d614-ca13-44a5-9acf-7c20e9d4e4f7",
   "metadata": {},
   "outputs": [],
   "source": [
    "impo"
   ]
  }
 ],
 "metadata": {
  "kernelspec": {
   "display_name": "Python 3 (ipykernel)",
   "language": "python",
   "name": "python3"
  },
  "language_info": {
   "codemirror_mode": {
    "name": "ipython",
    "version": 3
   },
   "file_extension": ".py",
   "mimetype": "text/x-python",
   "name": "python",
   "nbconvert_exporter": "python",
   "pygments_lexer": "ipython3",
   "version": "3.12.2"
  }
 },
 "nbformat": 4,
 "nbformat_minor": 5
}
