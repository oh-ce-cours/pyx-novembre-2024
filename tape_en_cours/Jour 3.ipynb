{
 "cells": [
  {
   "cell_type": "markdown",
   "id": "8f149893-9d69-41f8-83f4-7062d6f1c9fe",
   "metadata": {},
   "source": [
    "A voir : \n",
    "* débugger \n",
    "* flask / fastapi \n",
    "* poo / comment créer des __init__\n",
    "* les bibliothèques à ne pas utiliser\n",
    "* logs\n",
    "\n",
    "Ressources : \n",
    "* https://perso.limsi.fr/pointal/python:memento"
   ]
  },
  {
   "cell_type": "markdown",
   "id": "34bf4310-8b02-4218-959d-1b7ea1885336",
   "metadata": {},
   "source": [
    "# POO"
   ]
  },
  {
   "cell_type": "code",
   "execution_count": 91,
   "id": "2459667d-ed51-46ee-b4bb-487eb26b3c49",
   "metadata": {},
   "outputs": [
    {
     "data": {
      "text/plain": [
       "'\\nclass Voiture:\\n    owner = Personne\\n\\nvoiture.owner.age\\n'"
      ]
     },
     "execution_count": 91,
     "metadata": {},
     "output_type": "execute_result"
    }
   ],
   "source": [
    "class Personne:\n",
    "    def __init__(self, name , age, sexe=None):\n",
    "        print(\"dans le __init__\")\n",
    "        self.name = name\n",
    "        self.age = age\n",
    "        self.sexe = sexe\n",
    "    \n",
    "    def presenter(self):\n",
    "        return (f\"Je suis {self.name} et j'ai {self.age} ans et suis de sexe {self.sexe}\") \n",
    "\n",
    "    def __str__(self):\n",
    "        return self.presenter()\n",
    "\n",
    "\"\"\"\n",
    "class Voiture:\n",
    "    owner = Personne\n",
    "\n",
    "voiture.owner.age\n",
    "\"\"\"\n"
   ]
  },
  {
   "cell_type": "code",
   "execution_count": 92,
   "id": "d2eab7cf-2f51-4574-ac89-6177c9a0f470",
   "metadata": {},
   "outputs": [
    {
     "name": "stdout",
     "output_type": "stream",
     "text": [
      "dans le __init__\n"
     ]
    }
   ],
   "source": [
    "p1 = Personne(\"Matthieu\", 32)"
   ]
  },
  {
   "cell_type": "code",
   "execution_count": 93,
   "id": "f934a470-1591-441a-b548-9b6180a17dba",
   "metadata": {},
   "outputs": [
    {
     "data": {
      "text/plain": [
       "'Matthieu'"
      ]
     },
     "execution_count": 93,
     "metadata": {},
     "output_type": "execute_result"
    }
   ],
   "source": [
    "p1.name"
   ]
  },
  {
   "cell_type": "code",
   "execution_count": 94,
   "id": "f6f43524-4058-467c-aecc-f2feef5cde1d",
   "metadata": {},
   "outputs": [
    {
     "name": "stdout",
     "output_type": "stream",
     "text": [
      "dans le __init__\n"
     ]
    }
   ],
   "source": [
    "p2 = Personne(\"Pierre\", 28, \"M\")"
   ]
  },
  {
   "cell_type": "code",
   "execution_count": 95,
   "id": "2398c5bf-a902-4869-8217-bcaacc4e9881",
   "metadata": {},
   "outputs": [
    {
     "data": {
      "text/plain": [
       "'Pierre'"
      ]
     },
     "execution_count": 95,
     "metadata": {},
     "output_type": "execute_result"
    }
   ],
   "source": [
    "p2.name"
   ]
  },
  {
   "cell_type": "code",
   "execution_count": 96,
   "id": "c633051e-392c-4ddf-a727-753c2f46ba70",
   "metadata": {},
   "outputs": [],
   "source": [
    "def presenter(nom, age):\n",
    "    print(f\"Je suis {nom} et j'ai {age}\") \n"
   ]
  },
  {
   "cell_type": "code",
   "execution_count": 97,
   "id": "fba81a7c-5a4d-4f78-a5f6-c2e49e7a639f",
   "metadata": {},
   "outputs": [
    {
     "data": {
      "text/plain": [
       "\"Je suis Matthieu et j'ai 32 ans et suis de sexe None\""
      ]
     },
     "execution_count": 97,
     "metadata": {},
     "output_type": "execute_result"
    }
   ],
   "source": [
    "p1.presenter()"
   ]
  },
  {
   "cell_type": "code",
   "execution_count": null,
   "id": "af260cb6-549c-49dd-8beb-bc796e8f3d21",
   "metadata": {},
   "outputs": [],
   "source": []
  },
  {
   "cell_type": "code",
   "execution_count": 98,
   "id": "cbe8801a-3ab1-4d2b-88fa-037923c55b63",
   "metadata": {},
   "outputs": [],
   "source": [
    "#d = {\"nameDN\": \"toto\", \"valueDN\": \"1\", \"nameRegistry\": \"riri\", \"valueRegistry\": \"fifi\", \"customValues\": [{\"name\": \"riri\", \"value\": \"fifi\"}]}\n",
    "def config_normal():\n",
    "    return {\"nameDN\": \"toto\", \"valueDN\": \"1\", \"nameRegistry\": \"riri\", \"valueRegistry\": \"fifi\"}\n",
    "def config_custom():\n",
    "    return {\"customValues\": [{\"name\": \"riri\", \"value\": \"fifi\"}]}\n",
    "\n",
    "d = {}\n",
    "d.update(config_normal())\n",
    "d.update(config_custom())"
   ]
  },
  {
   "cell_type": "code",
   "execution_count": 99,
   "id": "71ebd9c5-9ed8-4502-a331-48d6191bf853",
   "metadata": {},
   "outputs": [
    {
     "data": {
      "text/plain": [
       "{'nameDN': 'toto',\n",
       " 'valueDN': '1',\n",
       " 'nameRegistry': 'riri',\n",
       " 'valueRegistry': 'fifi',\n",
       " 'customValues': [{'name': 'riri', 'value': 'fifi'}]}"
      ]
     },
     "execution_count": 99,
     "metadata": {},
     "output_type": "execute_result"
    }
   ],
   "source": [
    "d"
   ]
  },
  {
   "cell_type": "code",
   "execution_count": 101,
   "id": "e7d2b913-bb2c-4ff1-ad3b-ff2b7b542b17",
   "metadata": {},
   "outputs": [
    {
     "name": "stdout",
     "output_type": "stream",
     "text": [
      "Je suis Matthieu et j'ai 32 ans et suis de sexe None\n"
     ]
    }
   ],
   "source": [
    "print(str(p1))"
   ]
  },
  {
   "cell_type": "code",
   "execution_count": null,
   "id": "0839397a-c5cc-445a-901e-bf0bbac94623",
   "metadata": {},
   "outputs": [],
   "source": []
  },
  {
   "cell_type": "code",
   "execution_count": null,
   "id": "51291acf-bf70-459d-9f52-2a16fef352c7",
   "metadata": {},
   "outputs": [],
   "source": []
  }
 ],
 "metadata": {
  "kernelspec": {
   "display_name": "Python 3 (ipykernel)",
   "language": "python",
   "name": "python3"
  },
  "language_info": {
   "codemirror_mode": {
    "name": "ipython",
    "version": 3
   },
   "file_extension": ".py",
   "mimetype": "text/x-python",
   "name": "python",
   "nbconvert_exporter": "python",
   "pygments_lexer": "ipython3",
   "version": "3.12.2"
  }
 },
 "nbformat": 4,
 "nbformat_minor": 5
}
