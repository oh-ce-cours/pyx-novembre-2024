{
 "cells": [
  {
   "cell_type": "code",
   "execution_count": null,
   "id": "65ff2aec-67df-4e92-bc98-9912bc176815",
   "metadata": {},
   "outputs": [],
   "source": [
    "A voir : \n",
    "* débugger \n",
    "* flask / fastapi \n",
    "* poo / comment créer des __init__"
   ]
  }
 ],
 "metadata": {
  "kernelspec": {
   "display_name": "Python 3 (ipykernel)",
   "language": "python",
   "name": "python3"
  },
  "language_info": {
   "codemirror_mode": {
    "name": "ipython",
    "version": 3
   },
   "file_extension": ".py",
   "mimetype": "text/x-python",
   "name": "python",
   "nbconvert_exporter": "python",
   "pygments_lexer": "ipython3",
   "version": "3.12.2"
  }
 },
 "nbformat": 4,
 "nbformat_minor": 5
}
