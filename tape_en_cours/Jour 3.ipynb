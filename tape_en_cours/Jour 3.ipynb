{
 "cells": [
  {
   "cell_type": "markdown",
   "id": "8f149893-9d69-41f8-83f4-7062d6f1c9fe",
   "metadata": {},
   "source": [
    "A voir : \n",
    "* débugger \n",
    "* flask / fastapi \n",
    "* poo / comment créer des __init__\n",
    "* les bibliothèques à ne pas utiliser "
   ]
  },
  {
   "cell_type": "code",
   "execution_count": null,
   "id": "375c1ecc-0b50-4f7b-8917-a46199a0bdae",
   "metadata": {},
   "outputs": [],
   "source": []
  }
 ],
 "metadata": {
  "kernelspec": {
   "display_name": "Python 3 (ipykernel)",
   "language": "python",
   "name": "python3"
  },
  "language_info": {
   "codemirror_mode": {
    "name": "ipython",
    "version": 3
   },
   "file_extension": ".py",
   "mimetype": "text/x-python",
   "name": "python",
   "nbconvert_exporter": "python",
   "pygments_lexer": "ipython3",
   "version": "3.12.2"
  }
 },
 "nbformat": 4,
 "nbformat_minor": 5
}
