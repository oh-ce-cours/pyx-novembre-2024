{
 "cells": [
  {
   "cell_type": "markdown",
   "id": "62cc92bb-283a-4b5b-83ab-151b0747ec04",
   "metadata": {},
   "source": [
    "# Jour 1 de la formation PYX\n",
    "\n",
    "## Matin \n",
    "\n",
    "* tour de table\n",
    "* virtualenv (`venv`) : permettent d'isoler nos environnements python les uns des autres (pour avoir plusieurs versions de dépendances par exemple)\n",
    "    * ils vont créer un répertoire avec une arborescence qui copie une installation de python\n",
    "    * cycle de vie du virtualenv :\n",
    "        * `python -m venv .venv` : va créer le dossier `.venv` qui sera le nom de l'environnement (on peut l'appeler comme on veut) `python -m venv CE_QUON_VEUT` (une seule fois par projet)\n",
    "        * activation du venv (modifier les variables de path et tty, à faire dès que je veux travailler sur le projet) \n",
    "            * unix : `source .venv/bin/activate`\n",
    "            * windows : `.venv\\Scripts\\activate`\n",
    "        * désactivation : `deactivate` / fermer le shell\n",
    "        * suppression : `rm -rf .venv`\n",
    "* installation de paquets avec `pip`:\n",
    "    * `pip install` : \n",
    "    * `pip freeze > requirements.txt` : \n",
    "    * `pip install -r requirements.txt` :\n",
    "    * `wheel` : version pré-compilée qui va être installée, `pip` va automatiquement choisir la bonne version à installer. "
   ]
  },
  {
   "cell_type": "markdown",
   "id": "ceb48124-16fd-495f-9210-e800ad4ebc19",
   "metadata": {},
   "source": [
    "# Syntaxe de python \n",
    "\n",
    "Il y a des mots clés en python, on ne peut pas les utiliser comme nom de variables :\n",
    "```python \n",
    "def\n",
    "from \n",
    "class \n",
    "while \n",
    "for \n",
    "if \n",
    "import\n",
    "```"
   ]
  },
  {
   "cell_type": "code",
   "execution_count": 18,
   "id": "ae37304f-4601-4bb0-bc37-fc4af0cd09ca",
   "metadata": {},
   "outputs": [],
   "source": [
    "a = 3\n",
    "b = \"toto\"\n",
    "a = \"3\""
   ]
  },
  {
   "cell_type": "markdown",
   "id": "c67bbbe3-d260-4ef8-a388-55bd798e1652",
   "metadata": {},
   "source": [
    "## Les types \n",
    "\n",
    "* nombres : entier, flottant\n",
    "* chaines\n",
    "* booléens\n",
    "* listes\n",
    "* dict\n",
    "* tuples\n",
    "* None\n",
    "* set / ensemble "
   ]
  },
  {
   "cell_type": "code",
   "execution_count": 19,
   "id": "c4a16987-27f8-4a08-8ae7-05113f37995b",
   "metadata": {},
   "outputs": [
    {
     "data": {
      "text/plain": [
       "NoneType"
      ]
     },
     "execution_count": 19,
     "metadata": {},
     "output_type": "execute_result"
    }
   ],
   "source": [
    "a = None\n",
    "type(a)"
   ]
  },
  {
   "cell_type": "code",
   "execution_count": 22,
   "id": "f49e2780-f55c-4ad9-92cc-e9326038be0d",
   "metadata": {},
   "outputs": [
    {
     "data": {
      "text/plain": [
       "False"
      ]
     },
     "execution_count": 22,
     "metadata": {},
     "output_type": "execute_result"
    }
   ],
   "source": [
    "a = 3\n",
    "a == 2 "
   ]
  },
  {
   "cell_type": "code",
   "execution_count": null,
   "id": "50f51011-f523-4f0a-ac4c-4c6d428f76fd",
   "metadata": {},
   "outputs": [],
   "source": []
  },
  {
   "cell_type": "code",
   "execution_count": null,
   "id": "683cec4f-618e-4647-bfd2-cf78028d3716",
   "metadata": {},
   "outputs": [],
   "source": []
  }
 ],
 "metadata": {
  "kernelspec": {
   "display_name": "Python 3 (ipykernel)",
   "language": "python",
   "name": "python3"
  },
  "language_info": {
   "codemirror_mode": {
    "name": "ipython",
    "version": 3
   },
   "file_extension": ".py",
   "mimetype": "text/x-python",
   "name": "python",
   "nbconvert_exporter": "python",
   "pygments_lexer": "ipython3",
   "version": "3.12.2"
  }
 },
 "nbformat": 4,
 "nbformat_minor": 5
}
