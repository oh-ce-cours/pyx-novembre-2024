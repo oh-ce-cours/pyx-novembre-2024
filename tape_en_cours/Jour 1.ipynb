{
 "cells": [
  {
   "cell_type": "markdown",
   "id": "62cc92bb-283a-4b5b-83ab-151b0747ec04",
   "metadata": {},
   "source": [
    "# Jour 1 de la formation PYX\n",
    "\n",
    "## Matin \n",
    "\n",
    "* tour de table\n",
    "* virtualenv (`venv`) : permettent d'isoler nos environnements python les uns des autres (pour avoir plusieurs versions de dépendances par exemple)\n",
    "    * ils vont créer un répertoire avec une arborescence qui copie une installation de python\n",
    "    * cycle de vie du virtualenv :\n",
    "        * `python -m venv .venv` : va créer le dossier `.venv` qui sera le nom de l'environnement (on peut l'appeler comme on veut) `python -m venv CE_QUON_VEUT` (une seule fois par projet)\n",
    "        * activation du venv (modifier les variables de path et tty, à faire dès que je veux travailler sur le projet) \n",
    "            * unix : `source .venv/bin/activate`\n",
    "            * windows : `.venv\\Scripts\\activate`\n",
    "        * désactivation : `deactivate` / fermer le shell\n",
    "        * suppression : `rm -rf .venv`\n",
    "* installation de paquets avec `pip`:\n",
    "    * `pip install` : \n",
    "    * `pip freeze > requirements.txt` : \n",
    "    * `pip install -r requirements.txt` :\n",
    "    * `wheel` : version pré-compilée qui va être installée, `pip` va automatiquement choisir la bonne version à installer. "
   ]
  },
  {
   "cell_type": "markdown",
   "id": "ceb48124-16fd-495f-9210-e800ad4ebc19",
   "metadata": {},
   "source": [
    "# Synt"
   ]
  }
 ],
 "metadata": {
  "kernelspec": {
   "display_name": "Python 3 (ipykernel)",
   "language": "python",
   "name": "python3"
  },
  "language_info": {
   "codemirror_mode": {
    "name": "ipython",
    "version": 3
   },
   "file_extension": ".py",
   "mimetype": "text/x-python",
   "name": "python",
   "nbconvert_exporter": "python",
   "pygments_lexer": "ipython3",
   "version": "3.12.2"
  }
 },
 "nbformat": 4,
 "nbformat_minor": 5
}
