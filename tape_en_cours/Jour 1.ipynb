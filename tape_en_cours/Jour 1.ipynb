{
 "cells": [
  {
   "cell_type": "markdown",
   "id": "62cc92bb-283a-4b5b-83ab-151b0747ec04",
   "metadata": {},
   "source": [
    "# Jour 1 de la formation PYX\n",
    "\n",
    "## Matin \n",
    "\n",
    "* tour de table\n",
    "* virtualenv (`venv`) : permettent d'isoler nos environnements python les uns des autres (pour avoir plusieurs versions de dépendances par exemple)\n",
    "    * ils vont créer un répertoire avec une arborescence qui copie une installation de python\n",
    "    * cycle de vie du virtualenv :\n",
    "        * `python -m venv .venv` : va créer le dossier `.venv` qui sera le nom de l'environnement (on peut l'appeler comme on veut) `python -m venv CE_QUON_VEUT` (une seule fois par projet)\n",
    "        * activation du venv (modifier les variables de path et tty, à faire dès que je veux travailler sur le projet) \n",
    "            * unix : `source .venv/bin/activate`\n",
    "            * windows : `.venv\\Scripts\\activate`\n",
    "        * désactivation : `deactivate` / fermer le shell\n",
    "        * suppression : `rm -rf .venv`\n",
    "* installation de paquets avec `pip`:\n",
    "    * `pip install` : \n",
    "    * `pip freeze > requirements.txt` : \n",
    "    * `pip install -r requirements.txt` :\n",
    "    * `wheel` : version pré-compilée qui va être installée, `pip` va automatiquement choisir la bonne version à installer. "
   ]
  },
  {
   "cell_type": "markdown",
   "id": "ceb48124-16fd-495f-9210-e800ad4ebc19",
   "metadata": {},
   "source": [
    "# Syntaxe de python \n",
    "\n",
    "Il y a des mots clés en python, on ne peut pas les utiliser comme nom de variables :\n",
    "```python \n",
    "def\n",
    "from \n",
    "class \n",
    "while \n",
    "for \n",
    "if \n",
    "import\n",
    "```"
   ]
  },
  {
   "cell_type": "code",
   "execution_count": 18,
   "id": "ae37304f-4601-4bb0-bc37-fc4af0cd09ca",
   "metadata": {},
   "outputs": [],
   "source": [
    "a = 3\n",
    "b = \"toto\"\n",
    "a = \"3\""
   ]
  },
  {
   "cell_type": "markdown",
   "id": "c67bbbe3-d260-4ef8-a388-55bd798e1652",
   "metadata": {},
   "source": [
    "## Les types \n",
    "\n",
    "* nombres : entier, flottant\n",
    "* chaines\n",
    "* booléens\n",
    "* listes\n",
    "* dict\n",
    "* tuples\n",
    "* None\n",
    "* set / ensemble "
   ]
  },
  {
   "cell_type": "code",
   "execution_count": 19,
   "id": "c4a16987-27f8-4a08-8ae7-05113f37995b",
   "metadata": {},
   "outputs": [
    {
     "data": {
      "text/plain": [
       "NoneType"
      ]
     },
     "execution_count": 19,
     "metadata": {},
     "output_type": "execute_result"
    }
   ],
   "source": [
    "a = None\n",
    "type(a)"
   ]
  },
  {
   "cell_type": "code",
   "execution_count": 30,
   "id": "f49e2780-f55c-4ad9-92cc-e9326038be0d",
   "metadata": {},
   "outputs": [
    {
     "data": {
      "text/plain": [
       "False"
      ]
     },
     "execution_count": 30,
     "metadata": {},
     "output_type": "execute_result"
    }
   ],
   "source": [
    "0.1 + 0.2 == 0.3"
   ]
  },
  {
   "cell_type": "code",
   "execution_count": 33,
   "id": "50f51011-f523-4f0a-ac4c-4c6d428f76fd",
   "metadata": {},
   "outputs": [
    {
     "name": "stdout",
     "output_type": "stream",
     "text": [
      "majeur\n"
     ]
    }
   ],
   "source": [
    "age = 29\n",
    "\n",
    "if age < 18:\n",
    "    print(\"mineur\")\n",
    "elif age == 18:\n",
    "    print(\"transition\")\n",
    "else:\n",
    "    print(\"majeur\")"
   ]
  },
  {
   "cell_type": "code",
   "execution_count": 38,
   "id": "683cec4f-618e-4647-bfd2-cf78028d3716",
   "metadata": {},
   "outputs": [
    {
     "ename": "IndentationError",
     "evalue": "expected an indented block after 'for' statement on line 2 (1180567576.py, line 3)",
     "output_type": "error",
     "traceback": [
      "\u001b[0;36m  Cell \u001b[0;32mIn[38], line 3\u001b[0;36m\u001b[0m\n\u001b[0;31m    print(note)\u001b[0m\n\u001b[0m    ^\u001b[0m\n\u001b[0;31mIndentationError\u001b[0m\u001b[0;31m:\u001b[0m expected an indented block after 'for' statement on line 2\n"
     ]
    }
   ],
   "source": [
    "notes = [88, 92, 74, 89, \"A\"]\n",
    "for note in notes: \n",
    "    print(note)\n",
    "print(\"fini\")\n"
   ]
  },
  {
   "cell_type": "code",
   "execution_count": null,
   "id": "bbd70018-9db1-4a2c-bb85-e0582006b8ac",
   "metadata": {},
   "outputs": [],
   "source": []
  }
 ],
 "metadata": {
  "kernelspec": {
   "display_name": "Python 3 (ipykernel)",
   "language": "python",
   "name": "python3"
  },
  "language_info": {
   "codemirror_mode": {
    "name": "ipython",
    "version": 3
   },
   "file_extension": ".py",
   "mimetype": "text/x-python",
   "name": "python",
   "nbconvert_exporter": "python",
   "pygments_lexer": "ipython3",
   "version": "3.12.2"
  }
 },
 "nbformat": 4,
 "nbformat_minor": 5
}
