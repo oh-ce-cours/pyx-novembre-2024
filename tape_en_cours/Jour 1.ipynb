{
 "cells": [
  {
   "cell_type": "markdown",
   "id": "62cc92bb-283a-4b5b-83ab-151b0747ec04",
   "metadata": {},
   "source": [
    "# Jour 1 de la formation PYX\n",
    "\n",
    "## Matin \n",
    "\n",
    "* tour de table\n",
    "* virtualenv (`venv`) : permettent d'isoler nos environnements python les uns des autres (pour avoir plusieurs versions de dépendances par exemple)\n",
    "    * ils vont créer un répertoire avec une arborescence qui copie une installation de python\n",
    "    * cycle de vie du virtualenv :\n",
    "        * `python -m venv .venv` : va créer le dossier `.venv` qui sera le nom de l'environnement (on peut l'appeler comme on veut) `python -m venv CE_QUON_VEUT` (une seule fois par projet)\n",
    "        * activation du venv (modifier les variables de path et tty, à faire dès que je veux travailler sur le projet) \n",
    "            * unix : `source .venv/bin/activate`\n",
    "            * windows : `.venv\\Scripts\\activate`\n",
    "        * désactivation : `deactivate` / fermer le shell\n",
    "        * suppression : `rm -rf .venv`\n",
    "* installation de paquets avec `pip`:\n",
    "    * `pip install` : \n",
    "    * `pip freeze > requirements.txt` : \n",
    "    * `pip install -r requirements.txt` :\n",
    "    * `wheel` : version pré-compilée qui va être installée, `pip` va automatiquement choisir la bonne version à installer. "
   ]
  },
  {
   "cell_type": "markdown",
   "id": "ceb48124-16fd-495f-9210-e800ad4ebc19",
   "metadata": {},
   "source": [
    "# Syntaxe de python \n",
    "\n",
    "Il y a des mots clés en python, on ne peut pas les utiliser comme nom de variables :\n",
    "```python \n",
    "def\n",
    "from \n",
    "class \n",
    "while \n",
    "for \n",
    "if \n",
    "import\n",
    "```"
   ]
  },
  {
   "cell_type": "code",
   "execution_count": 18,
   "id": "ae37304f-4601-4bb0-bc37-fc4af0cd09ca",
   "metadata": {},
   "outputs": [],
   "source": [
    "a = 3\n",
    "b = \"toto\"\n",
    "a = \"3\""
   ]
  },
  {
   "cell_type": "markdown",
   "id": "c67bbbe3-d260-4ef8-a388-55bd798e1652",
   "metadata": {},
   "source": [
    "## Les types \n",
    "\n",
    "* nombres : entier, flottant\n",
    "* chaines\n",
    "* booléens\n",
    "* listes\n",
    "* dict\n",
    "* tuples\n",
    "* None\n",
    "* set / ensemble "
   ]
  },
  {
   "cell_type": "code",
   "execution_count": 19,
   "id": "c4a16987-27f8-4a08-8ae7-05113f37995b",
   "metadata": {},
   "outputs": [
    {
     "data": {
      "text/plain": [
       "NoneType"
      ]
     },
     "execution_count": 19,
     "metadata": {},
     "output_type": "execute_result"
    }
   ],
   "source": [
    "a = None\n",
    "type(a)"
   ]
  },
  {
   "cell_type": "code",
   "execution_count": 30,
   "id": "f49e2780-f55c-4ad9-92cc-e9326038be0d",
   "metadata": {},
   "outputs": [
    {
     "data": {
      "text/plain": [
       "False"
      ]
     },
     "execution_count": 30,
     "metadata": {},
     "output_type": "execute_result"
    }
   ],
   "source": [
    "0.1 + 0.2 == 0.3"
   ]
  },
  {
   "cell_type": "code",
   "execution_count": 33,
   "id": "50f51011-f523-4f0a-ac4c-4c6d428f76fd",
   "metadata": {},
   "outputs": [
    {
     "name": "stdout",
     "output_type": "stream",
     "text": [
      "majeur\n"
     ]
    }
   ],
   "source": [
    "age = 29\n",
    "\n",
    "if age < 18:\n",
    "    print(\"mineur\")\n",
    "elif age == 18:\n",
    "    print(\"transition\")\n",
    "else:\n",
    "    print(\"majeur\")"
   ]
  },
  {
   "cell_type": "code",
   "execution_count": 39,
   "id": "683cec4f-618e-4647-bfd2-cf78028d3716",
   "metadata": {},
   "outputs": [
    {
     "name": "stdout",
     "output_type": "stream",
     "text": [
      "88\n",
      "92\n",
      "74\n",
      "89\n",
      "A\n",
      "fini\n"
     ]
    }
   ],
   "source": [
    "notes = [88, 92, 74, 89, \"A\"]\n",
    "for note in notes: \n",
    "    print(note)\n",
    "print(\"fini\")\n"
   ]
  },
  {
   "cell_type": "code",
   "execution_count": 43,
   "id": "bbd70018-9db1-4a2c-bb85-e0582006b8ac",
   "metadata": {},
   "outputs": [
    {
     "name": "stdout",
     "output_type": "stream",
     "text": [
      "1\n",
      "3\n",
      "5\n",
      "7\n",
      "9\n"
     ]
    }
   ],
   "source": [
    "for i in range(1, 10, 2):\n",
    "    print(i)"
   ]
  },
  {
   "cell_type": "code",
   "execution_count": 64,
   "id": "5c5bf8e1-fd17-4824-bd76-06249b5b57d9",
   "metadata": {},
   "outputs": [
    {
     "name": "stdout",
     "output_type": "stream",
     "text": [
      "avant\n",
      "0\n",
      "avant\n",
      "1\n",
      "avant\n",
      "2\n",
      "avant\n",
      "3\n",
      "avant\n",
      "4\n",
      "avant\n",
      "5\n",
      "avant\n",
      "fini\n"
     ]
    }
   ],
   "source": [
    "for i in range(0, 10):\n",
    "    print(\"avant\")\n",
    "    if i > 5:\n",
    "        break\n",
    "    print(i)\n",
    "print(\"fini\")"
   ]
  },
  {
   "cell_type": "code",
   "execution_count": 63,
   "id": "162a76c9-3250-4283-9488-bdb37318aed8",
   "metadata": {},
   "outputs": [
    {
     "name": "stdout",
     "output_type": "stream",
     "text": [
      "avant\n",
      "0\n",
      "avant\n",
      "1\n",
      "avant\n",
      "2\n",
      "avant\n",
      "3\n",
      "avant\n",
      "4\n",
      "avant\n",
      "5\n",
      "avant\n",
      "avant\n",
      "avant\n",
      "avant\n",
      "fini\n"
     ]
    }
   ],
   "source": [
    "for i in range(0, 10):\n",
    "    print(\"avant\")\n",
    "    if i > 5:\n",
    "        continue\n",
    "    print(i)\n",
    "print(\"fini\")"
   ]
  },
  {
   "cell_type": "code",
   "execution_count": 49,
   "id": "c2af71d4-f193-44f9-afaa-ed4f6dbccb1b",
   "metadata": {},
   "outputs": [
    {
     "name": "stdout",
     "output_type": "stream",
     "text": [
      "0\n",
      "1\n",
      "2\n",
      "3\n",
      "4\n",
      "5\n",
      "6\n",
      "7\n",
      "8\n",
      "9\n"
     ]
    }
   ],
   "source": [
    "a = 0\n",
    "while a < 10: \n",
    "    print(a)\n",
    "    a += 1"
   ]
  },
  {
   "cell_type": "code",
   "execution_count": 67,
   "id": "22bfc091-dbd5-4d05-87f6-0c8c0f7d51c5",
   "metadata": {},
   "outputs": [
    {
     "name": "stdout",
     "output_type": "stream",
     "text": [
      "dedans\n"
     ]
    }
   ],
   "source": [
    "a = True\n",
    "b = False \n",
    "\n",
    "if a or not b: \n",
    "    print(\"dedans\")"
   ]
  },
  {
   "cell_type": "code",
   "execution_count": 57,
   "id": "daf9b7e9-8a4a-4057-aa02-2576ad40cad1",
   "metadata": {},
   "outputs": [
    {
     "data": {
      "text/plain": [
       "14286"
      ]
     },
     "execution_count": 57,
     "metadata": {},
     "output_type": "execute_result"
    }
   ],
   "source": [
    "len(elements)"
   ]
  },
  {
   "cell_type": "code",
   "execution_count": null,
   "id": "97841b14-e85f-40d1-b1b9-8670e48e5646",
   "metadata": {},
   "outputs": [],
   "source": []
  }
 ],
 "metadata": {
  "kernelspec": {
   "display_name": "Python 3 (ipykernel)",
   "language": "python",
   "name": "python3"
  },
  "language_info": {
   "codemirror_mode": {
    "name": "ipython",
    "version": 3
   },
   "file_extension": ".py",
   "mimetype": "text/x-python",
   "name": "python",
   "nbconvert_exporter": "python",
   "pygments_lexer": "ipython3",
   "version": "3.12.2"
  }
 },
 "nbformat": 4,
 "nbformat_minor": 5
}
