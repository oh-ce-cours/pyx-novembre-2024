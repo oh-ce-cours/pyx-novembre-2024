{
 "cells": [
  {
   "cell_type": "markdown",
   "id": "62cc92bb-283a-4b5b-83ab-151b0747ec04",
   "metadata": {},
   "source": [
    "# Jour 1 de la formation PYX\n",
    "\n",
    "## Matin \n",
    "\n",
    "* tour de table\n",
    "* virtualenv (`venv`) : permettent d'isoler nos environnements python les uns des autres (pour avoir plusieurs versions de dépendances par exemple)\n",
    "    * ils vont créer un répertoire avec une arborescence qui copie une installation de python\n",
    "    * cycle de vie du virtualenv :\n",
    "        * `python -m venv .venv` : va créer le dossier `.venv` qui sera le nom de l'environnement (on peut l'appeler comme on veut) `python -m venv CE_QUON_VEUT` (une seule fois par projet)\n",
    "        * activation du venv (modifier les variables de path et tty, à faire dès que je veux travailler sur le projet) \n",
    "            * unix : `source .venv/bin/activate`\n",
    "            * windows : `.venv\\Scripts\\activate`\n",
    "        * désactivation : `deactivate` / fermer le shell\n",
    "        * suppression : `rm -rf .venv`\n",
    "* installation de paquets avec `pip`:\n",
    "    * `pip install` : \n",
    "    * `pip freeze > requirements.txt` : \n",
    "    * `pip install -r requirements.txt` :\n",
    "    * `wheel` : version pré-compilée qui va être installée, `pip` va automatiquement choisir la bonne version à installer. "
   ]
  },
  {
   "cell_type": "markdown",
   "id": "ceb48124-16fd-495f-9210-e800ad4ebc19",
   "metadata": {},
   "source": [
    "# Syntaxe de python \n",
    "\n",
    "Il y a des mots clés en python, on ne peut pas les utiliser comme nom de variables :\n",
    "```python \n",
    "def\n",
    "from \n",
    "class \n",
    "while \n",
    "for \n",
    "if \n",
    "import\n",
    "```"
   ]
  },
  {
   "cell_type": "code",
   "execution_count": 18,
   "id": "ae37304f-4601-4bb0-bc37-fc4af0cd09ca",
   "metadata": {},
   "outputs": [],
   "source": [
    "a = 3\n",
    "b = \"toto\"\n",
    "a = \"3\""
   ]
  },
  {
   "cell_type": "markdown",
   "id": "c67bbbe3-d260-4ef8-a388-55bd798e1652",
   "metadata": {},
   "source": [
    "## Les types \n",
    "\n",
    "* nombres : entier, flottant\n",
    "* chaines\n",
    "* booléens\n",
    "* listes\n",
    "* dict\n",
    "* tuples\n",
    "* None\n",
    "* set / ensemble "
   ]
  },
  {
   "cell_type": "code",
   "execution_count": 19,
   "id": "c4a16987-27f8-4a08-8ae7-05113f37995b",
   "metadata": {},
   "outputs": [
    {
     "data": {
      "text/plain": [
       "NoneType"
      ]
     },
     "execution_count": 19,
     "metadata": {},
     "output_type": "execute_result"
    }
   ],
   "source": [
    "a = None\n",
    "type(a)"
   ]
  },
  {
   "cell_type": "code",
   "execution_count": 30,
   "id": "f49e2780-f55c-4ad9-92cc-e9326038be0d",
   "metadata": {},
   "outputs": [
    {
     "data": {
      "text/plain": [
       "False"
      ]
     },
     "execution_count": 30,
     "metadata": {},
     "output_type": "execute_result"
    }
   ],
   "source": [
    "0.1 + 0.2 == 0.3"
   ]
  },
  {
   "cell_type": "code",
   "execution_count": 33,
   "id": "50f51011-f523-4f0a-ac4c-4c6d428f76fd",
   "metadata": {},
   "outputs": [
    {
     "name": "stdout",
     "output_type": "stream",
     "text": [
      "majeur\n"
     ]
    }
   ],
   "source": [
    "age = 29\n",
    "\n",
    "if age < 18:\n",
    "    print(\"mineur\")\n",
    "elif age == 18:\n",
    "    print(\"transition\")\n",
    "else:\n",
    "    print(\"majeur\")"
   ]
  },
  {
   "cell_type": "code",
   "execution_count": 39,
   "id": "683cec4f-618e-4647-bfd2-cf78028d3716",
   "metadata": {},
   "outputs": [
    {
     "name": "stdout",
     "output_type": "stream",
     "text": [
      "88\n",
      "92\n",
      "74\n",
      "89\n",
      "A\n",
      "fini\n"
     ]
    }
   ],
   "source": [
    "notes = [88, 92, 74, 89, \"A\"]\n",
    "for note in notes: \n",
    "    print(note)\n",
    "print(\"fini\")\n"
   ]
  },
  {
   "cell_type": "code",
   "execution_count": 43,
   "id": "bbd70018-9db1-4a2c-bb85-e0582006b8ac",
   "metadata": {},
   "outputs": [
    {
     "name": "stdout",
     "output_type": "stream",
     "text": [
      "1\n",
      "3\n",
      "5\n",
      "7\n",
      "9\n"
     ]
    }
   ],
   "source": [
    "for i in range(1, 10, 2):\n",
    "    print(i)"
   ]
  },
  {
   "cell_type": "code",
   "execution_count": 64,
   "id": "5c5bf8e1-fd17-4824-bd76-06249b5b57d9",
   "metadata": {},
   "outputs": [
    {
     "name": "stdout",
     "output_type": "stream",
     "text": [
      "avant\n",
      "0\n",
      "avant\n",
      "1\n",
      "avant\n",
      "2\n",
      "avant\n",
      "3\n",
      "avant\n",
      "4\n",
      "avant\n",
      "5\n",
      "avant\n",
      "fini\n"
     ]
    }
   ],
   "source": [
    "for i in range(0, 10):\n",
    "    print(\"avant\")\n",
    "    if i > 5:\n",
    "        break\n",
    "    print(i)\n",
    "print(\"fini\")"
   ]
  },
  {
   "cell_type": "code",
   "execution_count": 63,
   "id": "162a76c9-3250-4283-9488-bdb37318aed8",
   "metadata": {},
   "outputs": [
    {
     "name": "stdout",
     "output_type": "stream",
     "text": [
      "avant\n",
      "0\n",
      "avant\n",
      "1\n",
      "avant\n",
      "2\n",
      "avant\n",
      "3\n",
      "avant\n",
      "4\n",
      "avant\n",
      "5\n",
      "avant\n",
      "avant\n",
      "avant\n",
      "avant\n",
      "fini\n"
     ]
    }
   ],
   "source": [
    "for i in range(0, 10):\n",
    "    print(\"avant\")\n",
    "    if i > 5:\n",
    "        continue\n",
    "    print(i)\n",
    "print(\"fini\")"
   ]
  },
  {
   "cell_type": "code",
   "execution_count": 49,
   "id": "c2af71d4-f193-44f9-afaa-ed4f6dbccb1b",
   "metadata": {},
   "outputs": [
    {
     "name": "stdout",
     "output_type": "stream",
     "text": [
      "0\n",
      "1\n",
      "2\n",
      "3\n",
      "4\n",
      "5\n",
      "6\n",
      "7\n",
      "8\n",
      "9\n"
     ]
    }
   ],
   "source": [
    "a = 0\n",
    "while a < 10: \n",
    "    print(a)\n",
    "    a += 1"
   ]
  },
  {
   "cell_type": "code",
   "execution_count": 67,
   "id": "22bfc091-dbd5-4d05-87f6-0c8c0f7d51c5",
   "metadata": {},
   "outputs": [
    {
     "name": "stdout",
     "output_type": "stream",
     "text": [
      "dedans\n"
     ]
    }
   ],
   "source": [
    "a = True\n",
    "b = False \n",
    "\n",
    "if a or b: \n",
    "    print(\"dedans\")"
   ]
  },
  {
   "cell_type": "code",
   "execution_count": 57,
   "id": "daf9b7e9-8a4a-4057-aa02-2576ad40cad1",
   "metadata": {},
   "outputs": [
    {
     "data": {
      "text/plain": [
       "14286"
      ]
     },
     "execution_count": 57,
     "metadata": {},
     "output_type": "execute_result"
    }
   ],
   "source": [
    "len(elements)"
   ]
  },
  {
   "cell_type": "code",
   "execution_count": 69,
   "id": "97841b14-e85f-40d1-b1b9-8670e48e5646",
   "metadata": {},
   "outputs": [
    {
     "data": {
      "text/plain": [
       "0"
      ]
     },
     "execution_count": 69,
     "metadata": {},
     "output_type": "execute_result"
    }
   ],
   "source": [
    "a = 5\n",
    "a % 5"
   ]
  },
  {
   "cell_type": "markdown",
   "id": "b3e9859f-e4a9-49b5-8e59-e123c4e13da0",
   "metadata": {},
   "source": [
    "## Fizz buzz"
   ]
  },
  {
   "cell_type": "code",
   "execution_count": 81,
   "id": "a7a13dde-097e-4268-a9ac-a1d5e3077f20",
   "metadata": {},
   "outputs": [
    {
     "name": "stdout",
     "output_type": "stream",
     "text": [
      "1\n",
      "2\n",
      "Fizz\n",
      "4\n",
      "Buzz\n",
      "Fizz\n",
      "7\n",
      "8\n",
      "Fizz\n",
      "Buzz\n",
      "11\n",
      "Fizz\n",
      "13\n",
      "14\n",
      "FizzBuzz\n",
      "16\n",
      "17\n",
      "Fizz\n",
      "19\n",
      "Buzz\n",
      "Fizz\n",
      "22\n",
      "23\n",
      "Fizz\n",
      "Buzz\n",
      "26\n",
      "Fizz\n",
      "28\n",
      "29\n",
      "FizzBuzz\n",
      "31\n",
      "32\n",
      "Fizz\n",
      "34\n",
      "Buzz\n",
      "Fizz\n",
      "37\n",
      "38\n",
      "Fizz\n",
      "Buzz\n",
      "41\n",
      "Fizz\n",
      "43\n",
      "44\n",
      "FizzBuzz\n",
      "46\n",
      "47\n",
      "Fizz\n",
      "49\n",
      "Buzz\n",
      "Fizz\n",
      "52\n",
      "53\n",
      "Fizz\n",
      "Buzz\n",
      "56\n",
      "Fizz\n",
      "58\n",
      "59\n",
      "FizzBuzz\n",
      "61\n",
      "62\n",
      "Fizz\n",
      "64\n",
      "Buzz\n",
      "Fizz\n",
      "67\n",
      "68\n",
      "Fizz\n",
      "Buzz\n",
      "71\n",
      "Fizz\n",
      "73\n",
      "74\n",
      "FizzBuzz\n",
      "76\n",
      "77\n",
      "Fizz\n",
      "79\n",
      "Buzz\n",
      "Fizz\n",
      "82\n",
      "83\n",
      "Fizz\n",
      "Buzz\n",
      "86\n",
      "Fizz\n",
      "88\n",
      "89\n",
      "FizzBuzz\n",
      "91\n",
      "92\n",
      "Fizz\n",
      "94\n",
      "Buzz\n",
      "Fizz\n",
      "97\n",
      "98\n",
      "Fizz\n",
      "Buzz\n"
     ]
    }
   ],
   "source": [
    "for i in range(1, 101):\n",
    "    if i % 3 == 0 and i % 5 == 0:\n",
    "        print(\"FizzBuzz\")\n",
    "    elif i % 3 == 0:\n",
    "        print(\"Fizz\")\n",
    "    elif i % 5 == 0:\n",
    "        print(\"Buzz\")\n",
    "    else:\n",
    "        print(str(i))"
   ]
  },
  {
   "cell_type": "code",
   "execution_count": 90,
   "id": "ed1a293b-dd67-4cf0-8df5-d5bb47b71d73",
   "metadata": {},
   "outputs": [
    {
     "name": "stdout",
     "output_type": "stream",
     "text": [
      "1\n",
      "2\n",
      "fizz\n",
      "4\n",
      "buzz\n",
      "fizz\n",
      "bazz\n",
      "8\n",
      "fizz\n",
      "buzz\n",
      "11\n",
      "fizz\n",
      "13\n",
      "bazz\n",
      "fizzbuzz\n",
      "16\n",
      "17\n",
      "fizz\n",
      "19\n",
      "buzz\n",
      "fizzbazz\n",
      "22\n",
      "23\n",
      "fizz\n",
      "buzz\n",
      "26\n",
      "fizz\n",
      "bazz\n",
      "29\n",
      "fizzbuzz\n",
      "31\n",
      "32\n",
      "fizz\n",
      "34\n",
      "buzzbazz\n",
      "fizz\n",
      "37\n",
      "38\n",
      "fizz\n",
      "buzz\n",
      "41\n",
      "fizzbazz\n",
      "43\n",
      "44\n",
      "fizzbuzz\n",
      "46\n",
      "47\n",
      "fizz\n",
      "bazz\n",
      "buzz\n",
      "fizz\n",
      "52\n",
      "53\n",
      "fizz\n",
      "buzz\n",
      "bazz\n",
      "fizz\n",
      "58\n",
      "59\n",
      "fizzbuzz\n",
      "61\n",
      "62\n",
      "fizzbazz\n",
      "64\n",
      "buzz\n",
      "fizz\n",
      "67\n",
      "68\n",
      "fizz\n",
      "buzzbazz\n",
      "71\n",
      "fizz\n",
      "73\n",
      "74\n",
      "fizzbuzz\n",
      "76\n",
      "bazz\n",
      "fizz\n",
      "79\n",
      "buzz\n",
      "fizz\n",
      "82\n",
      "83\n",
      "fizzbazz\n",
      "buzz\n",
      "86\n",
      "fizz\n",
      "88\n",
      "89\n",
      "fizzbuzz\n",
      "bazz\n",
      "92\n",
      "fizz\n",
      "94\n",
      "buzz\n",
      "fizz\n",
      "97\n",
      "bazz\n",
      "fizz\n",
      "buzz\n"
     ]
    }
   ],
   "source": [
    "for nombre in range(1, 101):\n",
    "    resultat = \"\"\n",
    "    if nombre % 3 == 0:\n",
    "        resultat = resultat + \"fizz\"\n",
    "    if nombre % 5 == 0:\n",
    "        resultat += \"buzz\"\n",
    "    if nombre % 7 == 0:\n",
    "        resultat += \"bazz\"\n",
    "    if resultat == \"\": \n",
    "        resultat = nombre\n",
    "    print(resultat)"
   ]
  },
  {
   "cell_type": "code",
   "execution_count": 83,
   "id": "54cd894e-0022-4907-95ad-3911df426ce6",
   "metadata": {},
   "outputs": [
    {
     "data": {
      "text/plain": [
       "'ab'"
      ]
     },
     "execution_count": 83,
     "metadata": {},
     "output_type": "execute_result"
    }
   ],
   "source": [
    "\"a\" + \"b\""
   ]
  },
  {
   "cell_type": "code",
   "execution_count": 86,
   "id": "067f5d59-0444-40fe-9af8-cf38bee8cf42",
   "metadata": {},
   "outputs": [
    {
     "name": "stdout",
     "output_type": "stream",
     "text": [
      "-5 True\n",
      "toto\n",
      "------\n",
      "-4 True\n",
      "toto\n",
      "------\n",
      "-3 True\n",
      "toto\n",
      "------\n",
      "-2 True\n",
      "toto\n",
      "------\n",
      "-1 True\n",
      "toto\n",
      "------\n",
      "0 False\n",
      "------\n",
      "1 True\n",
      "toto\n",
      "------\n",
      "2 True\n",
      "toto\n",
      "------\n",
      "3 True\n",
      "toto\n",
      "------\n",
      "4 True\n",
      "toto\n",
      "------\n"
     ]
    }
   ],
   "source": [
    "for i in range(-5, 5):\n",
    "    print(i, bool(i))\n",
    "    if i:\n",
    "        print(\"toto\")\n",
    "    print(\"------\")"
   ]
  },
  {
   "cell_type": "code",
   "execution_count": 93,
   "id": "930cbf65-5358-466a-90fe-0e0e214ca2be",
   "metadata": {},
   "outputs": [
    {
     "name": "stdout",
     "output_type": "stream",
     "text": [
      "1\n",
      "2\n",
      "fizz\n",
      "4\n",
      "buzz\n",
      "fizz\n",
      "7\n",
      "8\n",
      "fizz\n",
      "buzz\n",
      "11\n",
      "fizz\n",
      "13\n",
      "14\n",
      "fizzbuzz\n",
      "16\n",
      "17\n",
      "fizz\n",
      "19\n",
      "buzz\n",
      "fizz\n",
      "22\n",
      "23\n",
      "fizz\n",
      "buzz\n",
      "26\n",
      "fizz\n",
      "28\n",
      "29\n",
      "fizzbuzz\n",
      "31\n",
      "32\n",
      "fizz\n",
      "34\n",
      "buzz\n",
      "fizz\n",
      "37\n",
      "38\n",
      "fizz\n",
      "buzz\n",
      "41\n",
      "fizz\n",
      "43\n",
      "44\n",
      "fizzbuzz\n",
      "46\n",
      "47\n",
      "fizz\n",
      "49\n",
      "buzz\n",
      "fizz\n",
      "52\n",
      "53\n",
      "fizz\n",
      "buzz\n",
      "56\n",
      "fizz\n",
      "58\n",
      "59\n",
      "fizzbuzz\n",
      "61\n",
      "62\n",
      "fizz\n",
      "64\n",
      "buzz\n",
      "fizz\n",
      "67\n",
      "68\n",
      "fizz\n",
      "buzz\n",
      "71\n",
      "fizz\n",
      "73\n",
      "74\n",
      "fizzbuzz\n",
      "76\n",
      "77\n",
      "fizz\n",
      "79\n",
      "buzz\n",
      "fizz\n",
      "82\n",
      "83\n",
      "fizz\n",
      "buzz\n",
      "86\n",
      "fizz\n",
      "88\n",
      "89\n",
      "fizzbuzz\n",
      "91\n",
      "92\n",
      "fizz\n",
      "94\n",
      "buzz\n",
      "fizz\n",
      "97\n",
      "98\n",
      "fizz\n",
      "buzz\n"
     ]
    }
   ],
   "source": [
    "for nombre in range(1, 101):\n",
    "    match nombre % 3, nombre % 5:\n",
    "        case 0, 0:\n",
    "            print(\"fizzbuzz\")\n",
    "        case 0, _:\n",
    "            print(\"fizz\")\n",
    "        case _, 0:\n",
    "            print(\"buzz\")\n",
    "        case _:\n",
    "            print(str(nombre))"
   ]
  },
  {
   "cell_type": "code",
   "execution_count": null,
   "id": "5145b70b-b0dc-4fbf-81b2-8156c27b80a4",
   "metadata": {},
   "outputs": [],
   "source": []
  }
 ],
 "metadata": {
  "kernelspec": {
   "display_name": "Python 3 (ipykernel)",
   "language": "python",
   "name": "python3"
  },
  "language_info": {
   "codemirror_mode": {
    "name": "ipython",
    "version": 3
   },
   "file_extension": ".py",
   "mimetype": "text/x-python",
   "name": "python",
   "nbconvert_exporter": "python",
   "pygments_lexer": "ipython3",
   "version": "3.12.2"
  }
 },
 "nbformat": 4,
 "nbformat_minor": 5
}
